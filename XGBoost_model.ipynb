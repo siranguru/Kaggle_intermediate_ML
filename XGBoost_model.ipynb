{
 "cells": [
  {
   "cell_type": "markdown",
   "id": "15a94632",
   "metadata": {
    "papermill": {
     "duration": 0.007867,
     "end_time": "2024-09-29T12:19:10.249341",
     "exception": false,
     "start_time": "2024-09-29T12:19:10.241474",
     "status": "completed"
    },
    "tags": []
   },
   "source": [
    "**This notebook is an exercise in the [Intermediate Machine Learning](https://www.kaggle.com/learn/intermediate-machine-learning) course.  You can reference the tutorial at [this link](https://www.kaggle.com/alexisbcook/xgboost).**\n",
    "\n",
    "---\n"
   ]
  },
  {
   "cell_type": "markdown",
   "id": "69a92227",
   "metadata": {
    "papermill": {
     "duration": 0.006606,
     "end_time": "2024-09-29T12:19:10.262974",
     "exception": false,
     "start_time": "2024-09-29T12:19:10.256368",
     "status": "completed"
    },
    "tags": []
   },
   "source": [
    "In this exercise, you will use your new knowledge to train a model with **gradient boosting**.\n",
    "\n",
    "# Setup\n",
    "\n",
    "The questions below will give you feedback on your work. Run the following cell to set up the feedback system."
   ]
  },
  {
   "cell_type": "code",
   "execution_count": 1,
   "id": "53d1c31e",
   "metadata": {
    "execution": {
     "iopub.execute_input": "2024-09-29T12:19:10.280296Z",
     "iopub.status.busy": "2024-09-29T12:19:10.279225Z",
     "iopub.status.idle": "2024-09-29T12:19:13.938481Z",
     "shell.execute_reply": "2024-09-29T12:19:13.937569Z"
    },
    "papermill": {
     "duration": 3.670925,
     "end_time": "2024-09-29T12:19:13.941109",
     "exception": false,
     "start_time": "2024-09-29T12:19:10.270184",
     "status": "completed"
    },
    "tags": []
   },
   "outputs": [
    {
     "name": "stdout",
     "output_type": "stream",
     "text": [
      "Setup Complete\n"
     ]
    }
   ],
   "source": [
    "# Set up code checking\n",
    "import os\n",
    "if not os.path.exists(\"../input/train.csv\"):\n",
    "    os.symlink(\"../input/home-data-for-ml-course/train.csv\", \"../input/train.csv\")  \n",
    "    os.symlink(\"../input/home-data-for-ml-course/test.csv\", \"../input/test.csv\") \n",
    "from learntools.core import binder\n",
    "binder.bind(globals())\n",
    "from learntools.ml_intermediate.ex6 import *\n",
    "print(\"Setup Complete\")"
   ]
  },
  {
   "cell_type": "markdown",
   "id": "309ae6c5",
   "metadata": {
    "papermill": {
     "duration": 0.006624,
     "end_time": "2024-09-29T12:19:13.955824",
     "exception": false,
     "start_time": "2024-09-29T12:19:13.949200",
     "status": "completed"
    },
    "tags": []
   },
   "source": [
    "You will work with the [Housing Prices Competition for Kaggle Learn Users](https://www.kaggle.com/c/home-data-for-ml-course) dataset from the previous exercise. \n",
    "\n",
    "![Ames Housing dataset image](https://storage.googleapis.com/kaggle-media/learn/images/lTJVG4e.png)\n",
    "\n",
    "Run the next code cell without changes to load the training and validation sets in `X_train`, `X_valid`, `y_train`, and `y_valid`.  The test set is loaded in `X_test`."
   ]
  },
  {
   "cell_type": "code",
   "execution_count": 2,
   "id": "86b0f202",
   "metadata": {
    "execution": {
     "iopub.execute_input": "2024-09-29T12:19:13.971649Z",
     "iopub.status.busy": "2024-09-29T12:19:13.971123Z",
     "iopub.status.idle": "2024-09-29T12:19:14.172746Z",
     "shell.execute_reply": "2024-09-29T12:19:14.171423Z"
    },
    "papermill": {
     "duration": 0.212961,
     "end_time": "2024-09-29T12:19:14.175557",
     "exception": false,
     "start_time": "2024-09-29T12:19:13.962596",
     "status": "completed"
    },
    "tags": []
   },
   "outputs": [],
   "source": [
    "import pandas as pd\n",
    "from sklearn.model_selection import train_test_split\n",
    "\n",
    "# Read the data\n",
    "X = pd.read_csv('../input/train.csv', index_col='Id')\n",
    "X_test_full = pd.read_csv('../input/test.csv', index_col='Id')\n",
    "\n",
    "# Remove rows with missing target, separate target from predictors\n",
    "X.dropna(axis=0, subset=['SalePrice'], inplace=True)\n",
    "y = X.SalePrice              \n",
    "X.drop(['SalePrice'], axis=1, inplace=True)\n",
    "\n",
    "# Break off validation set from training data\n",
    "X_train_full, X_valid_full, y_train, y_valid = train_test_split(X, y, train_size=0.8, test_size=0.2,\n",
    "                                                                random_state=0)\n",
    "\n",
    "# \"Cardinality\" means the number of unique values in a column\n",
    "# Select categorical columns with relatively low cardinality (convenient but arbitrary)\n",
    "low_cardinality_cols = [cname for cname in X_train_full.columns if X_train_full[cname].nunique() < 10 and \n",
    "                        X_train_full[cname].dtype == \"object\"]\n",
    "\n",
    "# Select numeric columns\n",
    "numeric_cols = [cname for cname in X_train_full.columns if X_train_full[cname].dtype in ['int64', 'float64']]\n",
    "\n",
    "# Keep selected columns only\n",
    "my_cols = low_cardinality_cols + numeric_cols\n",
    "X_train = X_train_full[my_cols].copy()\n",
    "X_valid = X_valid_full[my_cols].copy()\n",
    "X_test = X_test_full[my_cols].copy()\n",
    "\n",
    "# One-hot encode the data (to shorten the code, we use pandas)\n",
    "X_train = pd.get_dummies(X_train)\n",
    "X_valid = pd.get_dummies(X_valid)\n",
    "X_test = pd.get_dummies(X_test)\n",
    "X_train, X_valid = X_train.align(X_valid, join='left', axis=1)\n",
    "X_train, X_test = X_train.align(X_test, join='left', axis=1)"
   ]
  },
  {
   "cell_type": "markdown",
   "id": "0f75e57e",
   "metadata": {
    "papermill": {
     "duration": 0.006967,
     "end_time": "2024-09-29T12:19:14.189694",
     "exception": false,
     "start_time": "2024-09-29T12:19:14.182727",
     "status": "completed"
    },
    "tags": []
   },
   "source": [
    "# Step 1: Build model\n",
    "\n",
    "### Part A\n",
    "\n",
    "In this step, you'll build and train your first model with gradient boosting.\n",
    "\n",
    "- Begin by setting `my_model_1` to an XGBoost model.  Use the [XGBRegressor](https://xgboost.readthedocs.io/en/latest/python/python_api.html#xgboost.XGBRegressor) class, and set the random seed to 0 (`random_state=0`).  **Leave all other parameters as default.**\n",
    "- Then, fit the model to the training data in `X_train` and `y_train`."
   ]
  },
  {
   "cell_type": "code",
   "execution_count": 3,
   "id": "f84094c4",
   "metadata": {
    "execution": {
     "iopub.execute_input": "2024-09-29T12:19:14.205789Z",
     "iopub.status.busy": "2024-09-29T12:19:14.205300Z",
     "iopub.status.idle": "2024-09-29T12:19:14.739397Z",
     "shell.execute_reply": "2024-09-29T12:19:14.738288Z"
    },
    "papermill": {
     "duration": 0.545535,
     "end_time": "2024-09-29T12:19:14.742356",
     "exception": false,
     "start_time": "2024-09-29T12:19:14.196821",
     "status": "completed"
    },
    "tags": []
   },
   "outputs": [
    {
     "data": {
      "application/javascript": [
       "parent.postMessage({\"jupyterEvent\": \"custom.exercise_interaction\", \"data\": {\"outcomeType\": 1, \"valueTowardsCompletion\": 0.5, \"interactionType\": 1, \"questionType\": 2, \"questionId\": \"1.1_Model1A\", \"learnToolsVersion\": \"0.3.4\", \"failureMessage\": \"\", \"exceptionClass\": \"\", \"trace\": \"\"}}, \"*\")"
      ],
      "text/plain": [
       "<IPython.core.display.Javascript object>"
      ]
     },
     "metadata": {},
     "output_type": "display_data"
    },
    {
     "data": {
      "text/markdown": [
       "<span style=\"color:#33cc33\">Correct</span>"
      ],
      "text/plain": [
       "Correct"
      ]
     },
     "metadata": {},
     "output_type": "display_data"
    }
   ],
   "source": [
    "from xgboost import XGBRegressor\n",
    "\n",
    "# Define the model\n",
    "my_model_1 = XGBRegressor(random_state = 0) # Your code here\n",
    "\n",
    "# Fit the model\n",
    "# Your code here\n",
    "my_model_1.fit(X_train,y_train)\n",
    "\n",
    "# Check your answer\n",
    "step_1.a.check()"
   ]
  },
  {
   "cell_type": "code",
   "execution_count": 4,
   "id": "2c13a441",
   "metadata": {
    "execution": {
     "iopub.execute_input": "2024-09-29T12:19:14.760450Z",
     "iopub.status.busy": "2024-09-29T12:19:14.760013Z",
     "iopub.status.idle": "2024-09-29T12:19:14.765319Z",
     "shell.execute_reply": "2024-09-29T12:19:14.763936Z"
    },
    "papermill": {
     "duration": 0.016664,
     "end_time": "2024-09-29T12:19:14.767815",
     "exception": false,
     "start_time": "2024-09-29T12:19:14.751151",
     "status": "completed"
    },
    "tags": []
   },
   "outputs": [],
   "source": [
    "# Lines below will give you a hint or solution code\n",
    "#step_1.a.hint()\n",
    "#step_1.a.solution()"
   ]
  },
  {
   "cell_type": "markdown",
   "id": "69c82e7a",
   "metadata": {
    "papermill": {
     "duration": 0.00804,
     "end_time": "2024-09-29T12:19:14.783375",
     "exception": false,
     "start_time": "2024-09-29T12:19:14.775335",
     "status": "completed"
    },
    "tags": []
   },
   "source": [
    "### Part B\n",
    "\n",
    "Set `predictions_1` to the model's predictions for the validation data.  Recall that the validation features are stored in `X_valid`."
   ]
  },
  {
   "cell_type": "code",
   "execution_count": 5,
   "id": "ff5ce4ce",
   "metadata": {
    "execution": {
     "iopub.execute_input": "2024-09-29T12:19:14.800224Z",
     "iopub.status.busy": "2024-09-29T12:19:14.799792Z",
     "iopub.status.idle": "2024-09-29T12:19:14.859027Z",
     "shell.execute_reply": "2024-09-29T12:19:14.857917Z"
    },
    "papermill": {
     "duration": 0.073019,
     "end_time": "2024-09-29T12:19:14.863685",
     "exception": false,
     "start_time": "2024-09-29T12:19:14.790666",
     "status": "completed"
    },
    "tags": []
   },
   "outputs": [
    {
     "data": {
      "application/javascript": [
       "parent.postMessage({\"jupyterEvent\": \"custom.exercise_interaction\", \"data\": {\"outcomeType\": 1, \"valueTowardsCompletion\": 0.5, \"interactionType\": 1, \"questionType\": 2, \"questionId\": \"1.2_Model1B\", \"learnToolsVersion\": \"0.3.4\", \"failureMessage\": \"\", \"exceptionClass\": \"\", \"trace\": \"\"}}, \"*\")"
      ],
      "text/plain": [
       "<IPython.core.display.Javascript object>"
      ]
     },
     "metadata": {},
     "output_type": "display_data"
    },
    {
     "data": {
      "text/markdown": [
       "<span style=\"color:#33cc33\">Correct</span>"
      ],
      "text/plain": [
       "Correct"
      ]
     },
     "metadata": {},
     "output_type": "display_data"
    }
   ],
   "source": [
    "from sklearn.metrics import mean_absolute_error\n",
    "\n",
    "# Get predictions\n",
    "predictions_1 = my_model_1.predict(X_valid) # Your code here\n",
    "\n",
    "# Check your answer\n",
    "step_1.b.check()"
   ]
  },
  {
   "cell_type": "code",
   "execution_count": 6,
   "id": "9e907574",
   "metadata": {
    "execution": {
     "iopub.execute_input": "2024-09-29T12:19:14.881358Z",
     "iopub.status.busy": "2024-09-29T12:19:14.880943Z",
     "iopub.status.idle": "2024-09-29T12:19:14.886074Z",
     "shell.execute_reply": "2024-09-29T12:19:14.884898Z"
    },
    "papermill": {
     "duration": 0.016658,
     "end_time": "2024-09-29T12:19:14.888504",
     "exception": false,
     "start_time": "2024-09-29T12:19:14.871846",
     "status": "completed"
    },
    "tags": []
   },
   "outputs": [],
   "source": [
    "# Lines below will give you a hint or solution code\n",
    "#step_1.b.hint()\n",
    "#step_1.b.solution()"
   ]
  },
  {
   "cell_type": "markdown",
   "id": "89231127",
   "metadata": {
    "papermill": {
     "duration": 0.007754,
     "end_time": "2024-09-29T12:19:14.904177",
     "exception": false,
     "start_time": "2024-09-29T12:19:14.896423",
     "status": "completed"
    },
    "tags": []
   },
   "source": [
    "### Part C\n",
    "\n",
    "Finally, use the `mean_absolute_error()` function to calculate the mean absolute error (MAE) corresponding to the predictions for the validation set.  Recall that the labels for the validation data are stored in `y_valid`."
   ]
  },
  {
   "cell_type": "code",
   "execution_count": 7,
   "id": "bf8a2c06",
   "metadata": {
    "execution": {
     "iopub.execute_input": "2024-09-29T12:19:14.923494Z",
     "iopub.status.busy": "2024-09-29T12:19:14.922347Z",
     "iopub.status.idle": "2024-09-29T12:19:14.936162Z",
     "shell.execute_reply": "2024-09-29T12:19:14.934871Z"
    },
    "papermill": {
     "duration": 0.026679,
     "end_time": "2024-09-29T12:19:14.939281",
     "exception": false,
     "start_time": "2024-09-29T12:19:14.912602",
     "status": "completed"
    },
    "tags": []
   },
   "outputs": [
    {
     "name": "stdout",
     "output_type": "stream",
     "text": [
      "Mean Absolute Error: 18161.82412510702\n"
     ]
    },
    {
     "data": {
      "application/javascript": [
       "parent.postMessage({\"jupyterEvent\": \"custom.exercise_interaction\", \"data\": {\"outcomeType\": 1, \"valueTowardsCompletion\": 0.5, \"interactionType\": 1, \"questionType\": 2, \"questionId\": \"1.3_Model1C\", \"learnToolsVersion\": \"0.3.4\", \"failureMessage\": \"\", \"exceptionClass\": \"\", \"trace\": \"\"}}, \"*\")"
      ],
      "text/plain": [
       "<IPython.core.display.Javascript object>"
      ]
     },
     "metadata": {},
     "output_type": "display_data"
    },
    {
     "data": {
      "text/markdown": [
       "<span style=\"color:#33cc33\">Correct</span>"
      ],
      "text/plain": [
       "Correct"
      ]
     },
     "metadata": {},
     "output_type": "display_data"
    }
   ],
   "source": [
    "from sklearn.metrics import mean_absolute_error\n",
    "# Calculate MAE\n",
    "mae_1 = mean_absolute_error(y_valid,predictions_1) # Your code here\n",
    "\n",
    "# Uncomment to print MAE\n",
    "print(\"Mean Absolute Error:\" , mae_1)\n",
    "\n",
    "# Check your answer\n",
    "step_1.c.check()"
   ]
  },
  {
   "cell_type": "code",
   "execution_count": 8,
   "id": "d24d005d",
   "metadata": {
    "execution": {
     "iopub.execute_input": "2024-09-29T12:19:14.958157Z",
     "iopub.status.busy": "2024-09-29T12:19:14.957720Z",
     "iopub.status.idle": "2024-09-29T12:19:14.963117Z",
     "shell.execute_reply": "2024-09-29T12:19:14.961743Z"
    },
    "papermill": {
     "duration": 0.018265,
     "end_time": "2024-09-29T12:19:14.965908",
     "exception": false,
     "start_time": "2024-09-29T12:19:14.947643",
     "status": "completed"
    },
    "tags": []
   },
   "outputs": [],
   "source": [
    "# Lines below will give you a hint or solution code\n",
    "#step_1.c.hint()\n",
    "#step_1.c.solution()"
   ]
  },
  {
   "cell_type": "markdown",
   "id": "89bcce6a",
   "metadata": {
    "papermill": {
     "duration": 0.008341,
     "end_time": "2024-09-29T12:19:14.982708",
     "exception": false,
     "start_time": "2024-09-29T12:19:14.974367",
     "status": "completed"
    },
    "tags": []
   },
   "source": [
    "# Step 2: Improve the model\n",
    "\n",
    "Now that you've trained a default model as baseline, it's time to tinker with the parameters, to see if you can get better performance!\n",
    "- Begin by setting `my_model_2` to an XGBoost model, using the [XGBRegressor](https://xgboost.readthedocs.io/en/latest/python/python_api.html#xgboost.XGBRegressor) class.  Use what you learned in the previous tutorial to figure out how to change the default parameters (like `n_estimators` and `learning_rate`) to get better results.\n",
    "- Then, fit the model to the training data in `X_train` and `y_train`.\n",
    "- Set `predictions_2` to the model's predictions for the validation data.  Recall that the validation features are stored in `X_valid`.\n",
    "- Finally, use the `mean_absolute_error()` function to calculate the mean absolute error (MAE) corresponding to the predictions on the validation set.  Recall that the labels for the validation data are stored in `y_valid`.\n",
    "\n",
    "In order for this step to be marked correct, your model in `my_model_2` must attain lower MAE than the model in `my_model_1`. "
   ]
  },
  {
   "cell_type": "code",
   "execution_count": 9,
   "id": "95248053",
   "metadata": {
    "execution": {
     "iopub.execute_input": "2024-09-29T12:19:15.001995Z",
     "iopub.status.busy": "2024-09-29T12:19:15.001482Z",
     "iopub.status.idle": "2024-09-29T12:19:16.139390Z",
     "shell.execute_reply": "2024-09-29T12:19:16.138206Z"
    },
    "papermill": {
     "duration": 1.150352,
     "end_time": "2024-09-29T12:19:16.142056",
     "exception": false,
     "start_time": "2024-09-29T12:19:14.991704",
     "status": "completed"
    },
    "tags": []
   },
   "outputs": [
    {
     "name": "stderr",
     "output_type": "stream",
     "text": [
      "/opt/conda/lib/python3.10/site-packages/xgboost/sklearn.py:889: UserWarning: `early_stopping_rounds` in `fit` method is deprecated for better compatibility with scikit-learn, use `early_stopping_rounds` in constructor or`set_params` instead.\n",
      "  warnings.warn(\n",
      "/opt/conda/lib/python3.10/site-packages/xgboost/core.py:160: UserWarning: [12:19:15] WARNING: /workspace/src/learner.cc:742: \n",
      "Parameters: { \"n_estimator\" } are not used.\n",
      "\n",
      "  warnings.warn(smsg, UserWarning)\n"
     ]
    },
    {
     "name": "stdout",
     "output_type": "stream",
     "text": [
      "Mean Absolute Error: 17098.69095141267\n"
     ]
    },
    {
     "data": {
      "application/javascript": [
       "parent.postMessage({\"jupyterEvent\": \"custom.exercise_interaction\", \"data\": {\"outcomeType\": 1, \"valueTowardsCompletion\": 0.5, \"interactionType\": 1, \"questionType\": 2, \"questionId\": \"2_Model2\", \"learnToolsVersion\": \"0.3.4\", \"failureMessage\": \"\", \"exceptionClass\": \"\", \"trace\": \"\"}}, \"*\")"
      ],
      "text/plain": [
       "<IPython.core.display.Javascript object>"
      ]
     },
     "metadata": {},
     "output_type": "display_data"
    },
    {
     "data": {
      "text/markdown": [
       "<span style=\"color:#33cc33\">Correct</span>"
      ],
      "text/plain": [
       "Correct"
      ]
     },
     "metadata": {},
     "output_type": "display_data"
    }
   ],
   "source": [
    "# Define the model\n",
    "my_model_2 = XGBRegressor(n_estimator = 1000, learning_rate = 0.1) # Your code here\n",
    "\n",
    "# Fit the model\n",
    "# Your code here\n",
    "my_model_2.fit(X_train,y_train,\n",
    "              early_stopping_rounds = 30,\n",
    "              eval_set = [(X_valid, y_valid)],\n",
    "              verbose = False)\n",
    "\n",
    "# Get predictions\n",
    "predictions_2 = my_model_2.predict(X_valid) # Your code here\n",
    "\n",
    "# Calculate MAE\n",
    "mae_2 = mean_absolute_error(y_valid, predictions_2) # Your code here\n",
    "\n",
    "# Uncomment to print MAE\n",
    "print(\"Mean Absolute Error:\" , mae_2)\n",
    "\n",
    "# Check your answer\n",
    "step_2.check()"
   ]
  },
  {
   "cell_type": "code",
   "execution_count": 10,
   "id": "886c2ac2",
   "metadata": {
    "execution": {
     "iopub.execute_input": "2024-09-29T12:19:16.163834Z",
     "iopub.status.busy": "2024-09-29T12:19:16.162784Z",
     "iopub.status.idle": "2024-09-29T12:19:16.168358Z",
     "shell.execute_reply": "2024-09-29T12:19:16.167127Z"
    },
    "papermill": {
     "duration": 0.018888,
     "end_time": "2024-09-29T12:19:16.171072",
     "exception": false,
     "start_time": "2024-09-29T12:19:16.152184",
     "status": "completed"
    },
    "tags": []
   },
   "outputs": [],
   "source": [
    "# Lines below will give you a hint or solution code\n",
    "#step_2.hint()\n",
    "#step_2.solution()"
   ]
  },
  {
   "cell_type": "markdown",
   "id": "4b3ec813",
   "metadata": {
    "papermill": {
     "duration": 0.008478,
     "end_time": "2024-09-29T12:19:16.188570",
     "exception": false,
     "start_time": "2024-09-29T12:19:16.180092",
     "status": "completed"
    },
    "tags": []
   },
   "source": [
    "# Step 3: Break the model\n",
    "\n",
    "In this step, you will create a model that performs worse than the original model in Step 1.  This will help you to develop your intuition for how to set parameters.  You might even find that you accidentally get better performance, which is ultimately a nice problem to have and a valuable learning experience!\n",
    "- Begin by setting `my_model_3` to an XGBoost model, using the [XGBRegressor](https://xgboost.readthedocs.io/en/latest/python/python_api.html#xgboost.XGBRegressor) class.  Use what you learned in the previous tutorial to figure out how to change the default parameters (like `n_estimators` and `learning_rate`) to design a model to get high MAE.\n",
    "- Then, fit the model to the training data in `X_train` and `y_train`.\n",
    "- Set `predictions_3` to the model's predictions for the validation data.  Recall that the validation features are stored in `X_valid`.\n",
    "- Finally, use the `mean_absolute_error()` function to calculate the mean absolute error (MAE) corresponding to the predictions on the validation set.  Recall that the labels for the validation data are stored in `y_valid`.\n",
    "\n",
    "In order for this step to be marked correct, your model in `my_model_3` must attain higher MAE than the model in `my_model_1`. "
   ]
  },
  {
   "cell_type": "code",
   "execution_count": 11,
   "id": "ea5ec733",
   "metadata": {
    "execution": {
     "iopub.execute_input": "2024-09-29T12:19:16.207985Z",
     "iopub.status.busy": "2024-09-29T12:19:16.207483Z",
     "iopub.status.idle": "2024-09-29T12:19:16.493365Z",
     "shell.execute_reply": "2024-09-29T12:19:16.492094Z"
    },
    "papermill": {
     "duration": 0.298805,
     "end_time": "2024-09-29T12:19:16.496106",
     "exception": false,
     "start_time": "2024-09-29T12:19:16.197301",
     "status": "completed"
    },
    "tags": []
   },
   "outputs": [
    {
     "name": "stdout",
     "output_type": "stream",
     "text": [
      "Mean Absolute Error: 19681.582258668663\n"
     ]
    },
    {
     "name": "stderr",
     "output_type": "stream",
     "text": [
      "/opt/conda/lib/python3.10/site-packages/xgboost/sklearn.py:889: UserWarning: `early_stopping_rounds` in `fit` method is deprecated for better compatibility with scikit-learn, use `early_stopping_rounds` in constructor or`set_params` instead.\n",
      "  warnings.warn(\n"
     ]
    },
    {
     "data": {
      "application/javascript": [
       "parent.postMessage({\"jupyterEvent\": \"custom.exercise_interaction\", \"data\": {\"outcomeType\": 1, \"valueTowardsCompletion\": 0.5, \"interactionType\": 1, \"questionType\": 2, \"questionId\": \"3_Model3\", \"learnToolsVersion\": \"0.3.4\", \"failureMessage\": \"\", \"exceptionClass\": \"\", \"trace\": \"\"}}, \"*\")"
      ],
      "text/plain": [
       "<IPython.core.display.Javascript object>"
      ]
     },
     "metadata": {},
     "output_type": "display_data"
    },
    {
     "data": {
      "text/markdown": [
       "<span style=\"color:#33cc33\">Correct</span>"
      ],
      "text/plain": [
       "Correct"
      ]
     },
     "metadata": {},
     "output_type": "display_data"
    }
   ],
   "source": [
    "# Define the model\n",
    "my_model_3 = XGBRegressor(n_estimators = 100, learning_rate = 0.5)\n",
    "\n",
    "# Fit the model\n",
    "# Your code here\n",
    "my_model_3.fit(X_train,y_train,\n",
    "              early_stopping_rounds = 1,\n",
    "              eval_set = [(X_valid, y_valid)],\n",
    "              verbose = False)\n",
    "\n",
    "# Get predictions\n",
    "predictions_3 = my_model_3.predict(X_valid)\n",
    "\n",
    "# Calculate MAE\n",
    "mae_3 = mean_absolute_error(y_valid,predictions_3)\n",
    "\n",
    "# Uncomment to print MAE\n",
    "print(\"Mean Absolute Error:\" , mae_3)\n",
    "\n",
    "# Check your answer\n",
    "step_3.check()"
   ]
  },
  {
   "cell_type": "code",
   "execution_count": 12,
   "id": "44823705",
   "metadata": {
    "execution": {
     "iopub.execute_input": "2024-09-29T12:19:16.517726Z",
     "iopub.status.busy": "2024-09-29T12:19:16.517255Z",
     "iopub.status.idle": "2024-09-29T12:19:16.522720Z",
     "shell.execute_reply": "2024-09-29T12:19:16.521583Z"
    },
    "papermill": {
     "duration": 0.018714,
     "end_time": "2024-09-29T12:19:16.525348",
     "exception": false,
     "start_time": "2024-09-29T12:19:16.506634",
     "status": "completed"
    },
    "tags": []
   },
   "outputs": [],
   "source": [
    "# Lines below will give you a hint or solution code\n",
    "#step_3.hint()\n",
    "#step_3.solution()"
   ]
  },
  {
   "cell_type": "markdown",
   "id": "ddb4de4e",
   "metadata": {
    "papermill": {
     "duration": 0.008905,
     "end_time": "2024-09-29T12:19:16.543698",
     "exception": false,
     "start_time": "2024-09-29T12:19:16.534793",
     "status": "completed"
    },
    "tags": []
   },
   "source": [
    "# Keep going\n",
    "\n",
    "Continue to learn about **[data leakage](https://www.kaggle.com/alexisbcook/data-leakage)**.  This is an important issue for a data scientist to understand, and it has the potential to ruin your models in subtle and dangerous ways!"
   ]
  },
  {
   "cell_type": "markdown",
   "id": "a623f964",
   "metadata": {
    "papermill": {
     "duration": 0.009821,
     "end_time": "2024-09-29T12:19:16.562878",
     "exception": false,
     "start_time": "2024-09-29T12:19:16.553057",
     "status": "completed"
    },
    "tags": []
   },
   "source": [
    "---\n",
    "\n",
    "\n",
    "\n",
    "\n",
    "*Have questions or comments? Visit the [course discussion forum](https://www.kaggle.com/learn/intermediate-machine-learning/discussion) to chat with other learners.*"
   ]
  }
 ],
 "metadata": {
  "kaggle": {
   "accelerator": "none",
   "dataSources": [
    {
     "databundleVersionId": 111096,
     "sourceId": 10211,
     "sourceType": "competition"
    }
   ],
   "isGpuEnabled": false,
   "isInternetEnabled": false,
   "language": "python",
   "sourceType": "notebook"
  },
  "kernelspec": {
   "display_name": "Python 3",
   "language": "python",
   "name": "python3"
  },
  "language_info": {
   "codemirror_mode": {
    "name": "ipython",
    "version": 3
   },
   "file_extension": ".py",
   "mimetype": "text/x-python",
   "name": "python",
   "nbconvert_exporter": "python",
   "pygments_lexer": "ipython3",
   "version": "3.10.14"
  },
  "papermill": {
   "default_parameters": {},
   "duration": 10.114972,
   "end_time": "2024-09-29T12:19:17.194738",
   "environment_variables": {},
   "exception": null,
   "input_path": "__notebook__.ipynb",
   "output_path": "__notebook__.ipynb",
   "parameters": {},
   "start_time": "2024-09-29T12:19:07.079766",
   "version": "2.6.0"
  }
 },
 "nbformat": 4,
 "nbformat_minor": 5
}
