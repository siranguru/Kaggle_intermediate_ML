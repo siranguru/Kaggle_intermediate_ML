{
 "cells": [
  {
   "cell_type": "markdown",
   "id": "711cf30e",
   "metadata": {
    "papermill": {
     "duration": 0.012679,
     "end_time": "2024-09-29T12:13:29.607065",
     "exception": false,
     "start_time": "2024-09-29T12:13:29.594386",
     "status": "completed"
    },
    "tags": []
   },
   "source": [
    "**This notebook is an exercise in the [Intermediate Machine Learning](https://www.kaggle.com/learn/intermediate-machine-learning) course.  You can reference the tutorial at [this link](https://www.kaggle.com/alexisbcook/categorical-variables).**\n",
    "\n",
    "---\n"
   ]
  },
  {
   "cell_type": "markdown",
   "id": "3a359ed0",
   "metadata": {
    "papermill": {
     "duration": 0.01072,
     "end_time": "2024-09-29T12:13:29.629927",
     "exception": false,
     "start_time": "2024-09-29T12:13:29.619207",
     "status": "completed"
    },
    "tags": []
   },
   "source": [
    "By encoding **categorical variables**, you'll obtain your best results thus far!\n",
    "\n",
    "# Setup\n",
    "\n",
    "The questions below will give you feedback on your work. Run the following cell to set up the feedback system."
   ]
  },
  {
   "cell_type": "code",
   "execution_count": 1,
   "id": "a508b841",
   "metadata": {
    "execution": {
     "iopub.execute_input": "2024-09-29T12:13:29.654635Z",
     "iopub.status.busy": "2024-09-29T12:13:29.654060Z",
     "iopub.status.idle": "2024-09-29T12:13:30.584619Z",
     "shell.execute_reply": "2024-09-29T12:13:30.583248Z"
    },
    "papermill": {
     "duration": 0.94688,
     "end_time": "2024-09-29T12:13:30.587616",
     "exception": false,
     "start_time": "2024-09-29T12:13:29.640736",
     "status": "completed"
    },
    "tags": []
   },
   "outputs": [
    {
     "name": "stdout",
     "output_type": "stream",
     "text": [
      "Setup Complete\n"
     ]
    }
   ],
   "source": [
    "# Set up code checking\n",
    "import os\n",
    "if not os.path.exists(\"../input/train.csv\"):\n",
    "    os.symlink(\"../input/home-data-for-ml-course/train.csv\", \"../input/train.csv\")  \n",
    "    os.symlink(\"../input/home-data-for-ml-course/test.csv\", \"../input/test.csv\") \n",
    "from learntools.core import binder\n",
    "binder.bind(globals())\n",
    "from learntools.ml_intermediate.ex3 import *\n",
    "print(\"Setup Complete\")"
   ]
  },
  {
   "cell_type": "markdown",
   "id": "1387f3ec",
   "metadata": {
    "papermill": {
     "duration": 0.010589,
     "end_time": "2024-09-29T12:13:30.609192",
     "exception": false,
     "start_time": "2024-09-29T12:13:30.598603",
     "status": "completed"
    },
    "tags": []
   },
   "source": [
    "In this exercise, you will work with data from the [Housing Prices Competition for Kaggle Learn Users](https://www.kaggle.com/c/home-data-for-ml-course). \n",
    "\n",
    "![Ames Housing dataset image](https://storage.googleapis.com/kaggle-media/learn/images/lTJVG4e.png)\n",
    "\n",
    "Run the next code cell without changes to load the training and validation sets in `X_train`, `X_valid`, `y_train`, and `y_valid`.  The test set is loaded in `X_test`."
   ]
  },
  {
   "cell_type": "code",
   "execution_count": 2,
   "id": "2ae4bd7d",
   "metadata": {
    "execution": {
     "iopub.execute_input": "2024-09-29T12:13:30.634918Z",
     "iopub.status.busy": "2024-09-29T12:13:30.633330Z",
     "iopub.status.idle": "2024-09-29T12:13:32.063998Z",
     "shell.execute_reply": "2024-09-29T12:13:32.062571Z"
    },
    "papermill": {
     "duration": 1.447186,
     "end_time": "2024-09-29T12:13:32.067220",
     "exception": false,
     "start_time": "2024-09-29T12:13:30.620034",
     "status": "completed"
    },
    "tags": []
   },
   "outputs": [],
   "source": [
    "import pandas as pd\n",
    "from sklearn.model_selection import train_test_split\n",
    "\n",
    "# Read the data\n",
    "X = pd.read_csv('../input/train.csv', index_col='Id') \n",
    "X_test = pd.read_csv('../input/test.csv', index_col='Id')\n",
    "\n",
    "# Remove rows with missing target, separate target from predictors\n",
    "X.dropna(axis=0, subset=['SalePrice'], inplace=True)\n",
    "y = X.SalePrice\n",
    "X.drop(['SalePrice'], axis=1, inplace=True)\n",
    "\n",
    "# To keep things simple, we'll drop columns with missing values\n",
    "cols_with_missing = [col for col in X.columns if X[col].isnull().any()] \n",
    "X.drop(cols_with_missing, axis=1, inplace=True)\n",
    "X_test.drop(cols_with_missing, axis=1, inplace=True)\n",
    "\n",
    "# Break off validation set from training data\n",
    "X_train, X_valid, y_train, y_valid = train_test_split(X, y,\n",
    "                                                      train_size=0.8, test_size=0.2,\n",
    "                                                      random_state=0)"
   ]
  },
  {
   "cell_type": "markdown",
   "id": "60f39697",
   "metadata": {
    "papermill": {
     "duration": 0.010857,
     "end_time": "2024-09-29T12:13:32.089167",
     "exception": false,
     "start_time": "2024-09-29T12:13:32.078310",
     "status": "completed"
    },
    "tags": []
   },
   "source": [
    "Use the next code cell to print the first five rows of the data."
   ]
  },
  {
   "cell_type": "code",
   "execution_count": 3,
   "id": "00a70a16",
   "metadata": {
    "execution": {
     "iopub.execute_input": "2024-09-29T12:13:32.113697Z",
     "iopub.status.busy": "2024-09-29T12:13:32.112807Z",
     "iopub.status.idle": "2024-09-29T12:13:32.143430Z",
     "shell.execute_reply": "2024-09-29T12:13:32.142059Z"
    },
    "papermill": {
     "duration": 0.045953,
     "end_time": "2024-09-29T12:13:32.146064",
     "exception": false,
     "start_time": "2024-09-29T12:13:32.100111",
     "status": "completed"
    },
    "tags": []
   },
   "outputs": [
    {
     "data": {
      "text/html": [
       "<div>\n",
       "<style scoped>\n",
       "    .dataframe tbody tr th:only-of-type {\n",
       "        vertical-align: middle;\n",
       "    }\n",
       "\n",
       "    .dataframe tbody tr th {\n",
       "        vertical-align: top;\n",
       "    }\n",
       "\n",
       "    .dataframe thead th {\n",
       "        text-align: right;\n",
       "    }\n",
       "</style>\n",
       "<table border=\"1\" class=\"dataframe\">\n",
       "  <thead>\n",
       "    <tr style=\"text-align: right;\">\n",
       "      <th></th>\n",
       "      <th>MSSubClass</th>\n",
       "      <th>MSZoning</th>\n",
       "      <th>LotArea</th>\n",
       "      <th>Street</th>\n",
       "      <th>LotShape</th>\n",
       "      <th>LandContour</th>\n",
       "      <th>Utilities</th>\n",
       "      <th>LotConfig</th>\n",
       "      <th>LandSlope</th>\n",
       "      <th>Neighborhood</th>\n",
       "      <th>...</th>\n",
       "      <th>OpenPorchSF</th>\n",
       "      <th>EnclosedPorch</th>\n",
       "      <th>3SsnPorch</th>\n",
       "      <th>ScreenPorch</th>\n",
       "      <th>PoolArea</th>\n",
       "      <th>MiscVal</th>\n",
       "      <th>MoSold</th>\n",
       "      <th>YrSold</th>\n",
       "      <th>SaleType</th>\n",
       "      <th>SaleCondition</th>\n",
       "    </tr>\n",
       "    <tr>\n",
       "      <th>Id</th>\n",
       "      <th></th>\n",
       "      <th></th>\n",
       "      <th></th>\n",
       "      <th></th>\n",
       "      <th></th>\n",
       "      <th></th>\n",
       "      <th></th>\n",
       "      <th></th>\n",
       "      <th></th>\n",
       "      <th></th>\n",
       "      <th></th>\n",
       "      <th></th>\n",
       "      <th></th>\n",
       "      <th></th>\n",
       "      <th></th>\n",
       "      <th></th>\n",
       "      <th></th>\n",
       "      <th></th>\n",
       "      <th></th>\n",
       "      <th></th>\n",
       "      <th></th>\n",
       "    </tr>\n",
       "  </thead>\n",
       "  <tbody>\n",
       "    <tr>\n",
       "      <th>619</th>\n",
       "      <td>20</td>\n",
       "      <td>RL</td>\n",
       "      <td>11694</td>\n",
       "      <td>Pave</td>\n",
       "      <td>Reg</td>\n",
       "      <td>Lvl</td>\n",
       "      <td>AllPub</td>\n",
       "      <td>Inside</td>\n",
       "      <td>Gtl</td>\n",
       "      <td>NridgHt</td>\n",
       "      <td>...</td>\n",
       "      <td>108</td>\n",
       "      <td>0</td>\n",
       "      <td>0</td>\n",
       "      <td>260</td>\n",
       "      <td>0</td>\n",
       "      <td>0</td>\n",
       "      <td>7</td>\n",
       "      <td>2007</td>\n",
       "      <td>New</td>\n",
       "      <td>Partial</td>\n",
       "    </tr>\n",
       "    <tr>\n",
       "      <th>871</th>\n",
       "      <td>20</td>\n",
       "      <td>RL</td>\n",
       "      <td>6600</td>\n",
       "      <td>Pave</td>\n",
       "      <td>Reg</td>\n",
       "      <td>Lvl</td>\n",
       "      <td>AllPub</td>\n",
       "      <td>Inside</td>\n",
       "      <td>Gtl</td>\n",
       "      <td>NAmes</td>\n",
       "      <td>...</td>\n",
       "      <td>0</td>\n",
       "      <td>0</td>\n",
       "      <td>0</td>\n",
       "      <td>0</td>\n",
       "      <td>0</td>\n",
       "      <td>0</td>\n",
       "      <td>8</td>\n",
       "      <td>2009</td>\n",
       "      <td>WD</td>\n",
       "      <td>Normal</td>\n",
       "    </tr>\n",
       "    <tr>\n",
       "      <th>93</th>\n",
       "      <td>30</td>\n",
       "      <td>RL</td>\n",
       "      <td>13360</td>\n",
       "      <td>Pave</td>\n",
       "      <td>IR1</td>\n",
       "      <td>HLS</td>\n",
       "      <td>AllPub</td>\n",
       "      <td>Inside</td>\n",
       "      <td>Gtl</td>\n",
       "      <td>Crawfor</td>\n",
       "      <td>...</td>\n",
       "      <td>0</td>\n",
       "      <td>44</td>\n",
       "      <td>0</td>\n",
       "      <td>0</td>\n",
       "      <td>0</td>\n",
       "      <td>0</td>\n",
       "      <td>8</td>\n",
       "      <td>2009</td>\n",
       "      <td>WD</td>\n",
       "      <td>Normal</td>\n",
       "    </tr>\n",
       "    <tr>\n",
       "      <th>818</th>\n",
       "      <td>20</td>\n",
       "      <td>RL</td>\n",
       "      <td>13265</td>\n",
       "      <td>Pave</td>\n",
       "      <td>IR1</td>\n",
       "      <td>Lvl</td>\n",
       "      <td>AllPub</td>\n",
       "      <td>CulDSac</td>\n",
       "      <td>Gtl</td>\n",
       "      <td>Mitchel</td>\n",
       "      <td>...</td>\n",
       "      <td>59</td>\n",
       "      <td>0</td>\n",
       "      <td>0</td>\n",
       "      <td>0</td>\n",
       "      <td>0</td>\n",
       "      <td>0</td>\n",
       "      <td>7</td>\n",
       "      <td>2008</td>\n",
       "      <td>WD</td>\n",
       "      <td>Normal</td>\n",
       "    </tr>\n",
       "    <tr>\n",
       "      <th>303</th>\n",
       "      <td>20</td>\n",
       "      <td>RL</td>\n",
       "      <td>13704</td>\n",
       "      <td>Pave</td>\n",
       "      <td>IR1</td>\n",
       "      <td>Lvl</td>\n",
       "      <td>AllPub</td>\n",
       "      <td>Corner</td>\n",
       "      <td>Gtl</td>\n",
       "      <td>CollgCr</td>\n",
       "      <td>...</td>\n",
       "      <td>81</td>\n",
       "      <td>0</td>\n",
       "      <td>0</td>\n",
       "      <td>0</td>\n",
       "      <td>0</td>\n",
       "      <td>0</td>\n",
       "      <td>1</td>\n",
       "      <td>2006</td>\n",
       "      <td>WD</td>\n",
       "      <td>Normal</td>\n",
       "    </tr>\n",
       "  </tbody>\n",
       "</table>\n",
       "<p>5 rows × 60 columns</p>\n",
       "</div>"
      ],
      "text/plain": [
       "     MSSubClass MSZoning  LotArea Street LotShape LandContour Utilities  \\\n",
       "Id                                                                        \n",
       "619          20       RL    11694   Pave      Reg         Lvl    AllPub   \n",
       "871          20       RL     6600   Pave      Reg         Lvl    AllPub   \n",
       "93           30       RL    13360   Pave      IR1         HLS    AllPub   \n",
       "818          20       RL    13265   Pave      IR1         Lvl    AllPub   \n",
       "303          20       RL    13704   Pave      IR1         Lvl    AllPub   \n",
       "\n",
       "    LotConfig LandSlope Neighborhood  ... OpenPorchSF EnclosedPorch 3SsnPorch  \\\n",
       "Id                                    ...                                       \n",
       "619    Inside       Gtl      NridgHt  ...         108             0         0   \n",
       "871    Inside       Gtl        NAmes  ...           0             0         0   \n",
       "93     Inside       Gtl      Crawfor  ...           0            44         0   \n",
       "818   CulDSac       Gtl      Mitchel  ...          59             0         0   \n",
       "303    Corner       Gtl      CollgCr  ...          81             0         0   \n",
       "\n",
       "    ScreenPorch  PoolArea  MiscVal  MoSold  YrSold SaleType SaleCondition  \n",
       "Id                                                                         \n",
       "619         260         0        0       7    2007      New       Partial  \n",
       "871           0         0        0       8    2009       WD        Normal  \n",
       "93            0         0        0       8    2009       WD        Normal  \n",
       "818           0         0        0       7    2008       WD        Normal  \n",
       "303           0         0        0       1    2006       WD        Normal  \n",
       "\n",
       "[5 rows x 60 columns]"
      ]
     },
     "execution_count": 3,
     "metadata": {},
     "output_type": "execute_result"
    }
   ],
   "source": [
    "X_train.head()"
   ]
  },
  {
   "cell_type": "markdown",
   "id": "ee1e0320",
   "metadata": {
    "papermill": {
     "duration": 0.011016,
     "end_time": "2024-09-29T12:13:32.168517",
     "exception": false,
     "start_time": "2024-09-29T12:13:32.157501",
     "status": "completed"
    },
    "tags": []
   },
   "source": [
    "Notice that the dataset contains both numerical and categorical variables.  You'll need to encode the categorical data before training a model.\n",
    "\n",
    "To compare different models, you'll use the same `score_dataset()` function from the tutorial.  This function reports the [mean absolute error](https://en.wikipedia.org/wiki/Mean_absolute_error) (MAE) from a random forest model."
   ]
  },
  {
   "cell_type": "code",
   "execution_count": 4,
   "id": "c8a84fc4",
   "metadata": {
    "execution": {
     "iopub.execute_input": "2024-09-29T12:13:32.194183Z",
     "iopub.status.busy": "2024-09-29T12:13:32.192832Z",
     "iopub.status.idle": "2024-09-29T12:13:32.514059Z",
     "shell.execute_reply": "2024-09-29T12:13:32.512848Z"
    },
    "papermill": {
     "duration": 0.336756,
     "end_time": "2024-09-29T12:13:32.516863",
     "exception": false,
     "start_time": "2024-09-29T12:13:32.180107",
     "status": "completed"
    },
    "tags": []
   },
   "outputs": [],
   "source": [
    "from sklearn.ensemble import RandomForestRegressor\n",
    "from sklearn.metrics import mean_absolute_error\n",
    "\n",
    "# function for comparing different approaches\n",
    "def score_dataset(X_train, X_valid, y_train, y_valid):\n",
    "    model = RandomForestRegressor(n_estimators=100, random_state=0)\n",
    "    model.fit(X_train, y_train)\n",
    "    preds = model.predict(X_valid)\n",
    "    return mean_absolute_error(y_valid, preds)"
   ]
  },
  {
   "cell_type": "markdown",
   "id": "37a2f4c1",
   "metadata": {
    "papermill": {
     "duration": 0.011037,
     "end_time": "2024-09-29T12:13:32.539240",
     "exception": false,
     "start_time": "2024-09-29T12:13:32.528203",
     "status": "completed"
    },
    "tags": []
   },
   "source": [
    "# Step 1: Drop columns with categorical data\n",
    "\n",
    "You'll get started with the most straightforward approach.  Use the code cell below to preprocess the data in `X_train` and `X_valid` to remove columns with categorical data.  Set the preprocessed DataFrames to `drop_X_train` and `drop_X_valid`, respectively.  "
   ]
  },
  {
   "cell_type": "code",
   "execution_count": 5,
   "id": "3ce665db",
   "metadata": {
    "execution": {
     "iopub.execute_input": "2024-09-29T12:13:32.565110Z",
     "iopub.status.busy": "2024-09-29T12:13:32.563759Z",
     "iopub.status.idle": "2024-09-29T12:13:32.577569Z",
     "shell.execute_reply": "2024-09-29T12:13:32.576306Z"
    },
    "papermill": {
     "duration": 0.02923,
     "end_time": "2024-09-29T12:13:32.580163",
     "exception": false,
     "start_time": "2024-09-29T12:13:32.550933",
     "status": "completed"
    },
    "tags": []
   },
   "outputs": [
    {
     "data": {
      "application/javascript": [
       "parent.postMessage({\"jupyterEvent\": \"custom.exercise_interaction\", \"data\": {\"outcomeType\": 1, \"valueTowardsCompletion\": 0.5, \"interactionType\": 1, \"questionType\": 2, \"questionId\": \"1_Drop\", \"learnToolsVersion\": \"0.3.4\", \"failureMessage\": \"\", \"exceptionClass\": \"\", \"trace\": \"\"}}, \"*\")"
      ],
      "text/plain": [
       "<IPython.core.display.Javascript object>"
      ]
     },
     "metadata": {},
     "output_type": "display_data"
    },
    {
     "data": {
      "text/markdown": [
       "<span style=\"color:#33cc33\">Correct</span>"
      ],
      "text/plain": [
       "Correct"
      ]
     },
     "metadata": {},
     "output_type": "display_data"
    }
   ],
   "source": [
    "# Fill in the lines below: drop columns in training and validation data\n",
    "drop_X_train = X_train.select_dtypes(exclude = 'object')\n",
    "drop_X_valid = X_valid.select_dtypes(exclude = 'object')\n",
    "\n",
    "# Check your answers\n",
    "step_1.check()"
   ]
  },
  {
   "cell_type": "code",
   "execution_count": 6,
   "id": "60d75b0a",
   "metadata": {
    "execution": {
     "iopub.execute_input": "2024-09-29T12:13:32.606456Z",
     "iopub.status.busy": "2024-09-29T12:13:32.605233Z",
     "iopub.status.idle": "2024-09-29T12:13:32.610509Z",
     "shell.execute_reply": "2024-09-29T12:13:32.609357Z"
    },
    "papermill": {
     "duration": 0.021477,
     "end_time": "2024-09-29T12:13:32.613267",
     "exception": false,
     "start_time": "2024-09-29T12:13:32.591790",
     "status": "completed"
    },
    "tags": []
   },
   "outputs": [],
   "source": [
    "# Lines below will give you a hint or solution code\n",
    "#step_1.hint()\n",
    "#step_1.solution()"
   ]
  },
  {
   "cell_type": "markdown",
   "id": "c10cae18",
   "metadata": {
    "papermill": {
     "duration": 0.011139,
     "end_time": "2024-09-29T12:13:32.635912",
     "exception": false,
     "start_time": "2024-09-29T12:13:32.624773",
     "status": "completed"
    },
    "tags": []
   },
   "source": [
    "Run the next code cell to get the MAE for this approach."
   ]
  },
  {
   "cell_type": "code",
   "execution_count": 7,
   "id": "e6b85374",
   "metadata": {
    "execution": {
     "iopub.execute_input": "2024-09-29T12:13:32.661092Z",
     "iopub.status.busy": "2024-09-29T12:13:32.660591Z",
     "iopub.status.idle": "2024-09-29T12:13:34.150991Z",
     "shell.execute_reply": "2024-09-29T12:13:34.149559Z"
    },
    "papermill": {
     "duration": 1.505961,
     "end_time": "2024-09-29T12:13:34.153371",
     "exception": false,
     "start_time": "2024-09-29T12:13:32.647410",
     "status": "completed"
    },
    "tags": []
   },
   "outputs": [
    {
     "name": "stdout",
     "output_type": "stream",
     "text": [
      "MAE from Approach 1 (Drop categorical variables):\n",
      "17837.82570776256\n"
     ]
    }
   ],
   "source": [
    "print(\"MAE from Approach 1 (Drop categorical variables):\")\n",
    "print(score_dataset(drop_X_train, drop_X_valid, y_train, y_valid))"
   ]
  },
  {
   "cell_type": "markdown",
   "id": "1ce264d0",
   "metadata": {
    "papermill": {
     "duration": 0.011386,
     "end_time": "2024-09-29T12:13:34.176432",
     "exception": false,
     "start_time": "2024-09-29T12:13:34.165046",
     "status": "completed"
    },
    "tags": []
   },
   "source": [
    "Before jumping into ordinal encoding, we'll investigate the dataset.  Specifically, we'll look at the `'Condition2'` column.  The code cell below prints the unique entries in both the training and validation sets."
   ]
  },
  {
   "cell_type": "code",
   "execution_count": 8,
   "id": "27377f16",
   "metadata": {
    "execution": {
     "iopub.execute_input": "2024-09-29T12:13:34.203027Z",
     "iopub.status.busy": "2024-09-29T12:13:34.202512Z",
     "iopub.status.idle": "2024-09-29T12:13:34.211952Z",
     "shell.execute_reply": "2024-09-29T12:13:34.210784Z"
    },
    "papermill": {
     "duration": 0.025419,
     "end_time": "2024-09-29T12:13:34.214589",
     "exception": false,
     "start_time": "2024-09-29T12:13:34.189170",
     "status": "completed"
    },
    "tags": []
   },
   "outputs": [
    {
     "name": "stdout",
     "output_type": "stream",
     "text": [
      "Unique values in 'Condition2' column in training data: ['Norm' 'PosA' 'Feedr' 'PosN' 'Artery' 'RRAe']\n",
      "\n",
      "Unique values in 'Condition2' column in validation data: ['Norm' 'RRAn' 'RRNn' 'Artery' 'Feedr' 'PosN']\n"
     ]
    }
   ],
   "source": [
    "print(\"Unique values in 'Condition2' column in training data:\", X_train['Condition2'].unique())\n",
    "print(\"\\nUnique values in 'Condition2' column in validation data:\", X_valid['Condition2'].unique())"
   ]
  },
  {
   "cell_type": "markdown",
   "id": "20fbfd45",
   "metadata": {
    "papermill": {
     "duration": 0.012591,
     "end_time": "2024-09-29T12:13:34.238996",
     "exception": false,
     "start_time": "2024-09-29T12:13:34.226405",
     "status": "completed"
    },
    "tags": []
   },
   "source": [
    "# Step 2: Ordinal encoding\n",
    "\n",
    "### Part A\n",
    "\n",
    "If you now write code to: \n",
    "- fit an ordinal encoder to the training data, and then \n",
    "- use it to transform both the training and validation data, \n",
    "\n",
    "you'll get an error.  Can you see why this is the case?  (_You'll need  to use the above output to answer this question._)"
   ]
  },
  {
   "cell_type": "code",
   "execution_count": 9,
   "id": "af9524f4",
   "metadata": {
    "execution": {
     "iopub.execute_input": "2024-09-29T12:13:34.265048Z",
     "iopub.status.busy": "2024-09-29T12:13:34.264016Z",
     "iopub.status.idle": "2024-09-29T12:13:34.274069Z",
     "shell.execute_reply": "2024-09-29T12:13:34.273024Z"
    },
    "papermill": {
     "duration": 0.025743,
     "end_time": "2024-09-29T12:13:34.276449",
     "exception": false,
     "start_time": "2024-09-29T12:13:34.250706",
     "status": "completed"
    },
    "tags": []
   },
   "outputs": [
    {
     "data": {
      "application/javascript": [
       "parent.postMessage({\"jupyterEvent\": \"custom.exercise_interaction\", \"data\": {\"outcomeType\": 1, \"valueTowardsCompletion\": 0.5, \"interactionType\": 1, \"questionType\": 4, \"questionId\": \"2.1_LabelA\", \"learnToolsVersion\": \"0.3.4\", \"failureMessage\": \"\", \"exceptionClass\": \"\", \"trace\": \"\"}}, \"*\")"
      ],
      "text/plain": [
       "<IPython.core.display.Javascript object>"
      ]
     },
     "metadata": {},
     "output_type": "display_data"
    },
    {
     "data": {
      "text/markdown": [
       "<span style=\"color:#33cc33\">Correct:</span> \n",
       "\n",
       "Fitting an ordinal encoder to a column in the training data creates a corresponding integer-valued label for each unique value **that appears in the training data**. In the case that the validation data contains values that don't also appear in the training data, the encoder will throw an error, because these values won't have an integer assigned to them.  Notice that the `'Condition2'` column in the validation data contains the values `'RRAn'` and `'RRNn'`, but these don't appear in the training data -- thus, if we try to use an ordinal encoder with scikit-learn, the code will throw an error."
      ],
      "text/plain": [
       "Correct: \n",
       "\n",
       "Fitting an ordinal encoder to a column in the training data creates a corresponding integer-valued label for each unique value **that appears in the training data**. In the case that the validation data contains values that don't also appear in the training data, the encoder will throw an error, because these values won't have an integer assigned to them.  Notice that the `'Condition2'` column in the validation data contains the values `'RRAn'` and `'RRNn'`, but these don't appear in the training data -- thus, if we try to use an ordinal encoder with scikit-learn, the code will throw an error."
      ]
     },
     "metadata": {},
     "output_type": "display_data"
    }
   ],
   "source": [
    "# Check your answer (Run this code cell to receive credit!)\n",
    "step_2.a.check()"
   ]
  },
  {
   "cell_type": "code",
   "execution_count": 10,
   "id": "0aaa52a8",
   "metadata": {
    "execution": {
     "iopub.execute_input": "2024-09-29T12:13:34.303019Z",
     "iopub.status.busy": "2024-09-29T12:13:34.301914Z",
     "iopub.status.idle": "2024-09-29T12:13:34.307091Z",
     "shell.execute_reply": "2024-09-29T12:13:34.305984Z"
    },
    "papermill": {
     "duration": 0.021002,
     "end_time": "2024-09-29T12:13:34.309437",
     "exception": false,
     "start_time": "2024-09-29T12:13:34.288435",
     "status": "completed"
    },
    "tags": []
   },
   "outputs": [],
   "source": [
    "#step_2.a.hint()"
   ]
  },
  {
   "cell_type": "markdown",
   "id": "957e05a7",
   "metadata": {
    "papermill": {
     "duration": 0.01176,
     "end_time": "2024-09-29T12:13:34.333287",
     "exception": false,
     "start_time": "2024-09-29T12:13:34.321527",
     "status": "completed"
    },
    "tags": []
   },
   "source": [
    "This is a common problem that you'll encounter with real-world data, and there are many approaches to fixing this issue.  For instance, you can write a custom ordinal encoder to deal with new categories.  The simplest approach, however, is to drop the problematic categorical columns.  \n",
    "\n",
    "Run the code cell below to save the problematic columns to a Python list `bad_label_cols`.  Likewise, columns that can be safely ordinal encoded are stored in `good_label_cols`."
   ]
  },
  {
   "cell_type": "code",
   "execution_count": 11,
   "id": "2b6094be",
   "metadata": {
    "execution": {
     "iopub.execute_input": "2024-09-29T12:13:34.359404Z",
     "iopub.status.busy": "2024-09-29T12:13:34.358907Z",
     "iopub.status.idle": "2024-09-29T12:13:34.375736Z",
     "shell.execute_reply": "2024-09-29T12:13:34.374378Z"
    },
    "papermill": {
     "duration": 0.033165,
     "end_time": "2024-09-29T12:13:34.378413",
     "exception": false,
     "start_time": "2024-09-29T12:13:34.345248",
     "status": "completed"
    },
    "tags": []
   },
   "outputs": [
    {
     "name": "stdout",
     "output_type": "stream",
     "text": [
      "Categorical columns that will be ordinal encoded: ['MSZoning', 'Street', 'LotShape', 'LandContour', 'Utilities', 'LotConfig', 'LandSlope', 'Neighborhood', 'Condition1', 'BldgType', 'HouseStyle', 'RoofStyle', 'Exterior1st', 'Exterior2nd', 'ExterQual', 'ExterCond', 'Foundation', 'Heating', 'HeatingQC', 'CentralAir', 'KitchenQual', 'PavedDrive', 'SaleType', 'SaleCondition']\n",
      "\n",
      "Categorical columns that will be dropped from the dataset: ['Functional', 'RoofMatl', 'Condition2']\n"
     ]
    }
   ],
   "source": [
    "# Categorical columns in the training data\n",
    "object_cols = [col for col in X_train.columns if X_train[col].dtype == \"object\"]\n",
    "\n",
    "# Columns that can be safely ordinal encoded\n",
    "good_label_cols = [col for col in object_cols if \n",
    "                   set(X_valid[col]).issubset(set(X_train[col]))]\n",
    "        \n",
    "# Problematic columns that will be dropped from the dataset\n",
    "bad_label_cols = list(set(object_cols)-set(good_label_cols))\n",
    "        \n",
    "print('Categorical columns that will be ordinal encoded:', good_label_cols)\n",
    "print('\\nCategorical columns that will be dropped from the dataset:', bad_label_cols)"
   ]
  },
  {
   "cell_type": "markdown",
   "id": "12634d45",
   "metadata": {
    "papermill": {
     "duration": 0.012138,
     "end_time": "2024-09-29T12:13:34.403393",
     "exception": false,
     "start_time": "2024-09-29T12:13:34.391255",
     "status": "completed"
    },
    "tags": []
   },
   "source": [
    "### Part B\n",
    "\n",
    "Use the next code cell to ordinal encode the data in `X_train` and `X_valid`.  Set the preprocessed DataFrames to `label_X_train` and `label_X_valid`, respectively.  \n",
    "- We have provided code below to drop the categorical columns in `bad_label_cols` from the dataset. \n",
    "- You should ordinal encode the categorical columns in `good_label_cols`.  "
   ]
  },
  {
   "cell_type": "code",
   "execution_count": 12,
   "id": "4221eb79",
   "metadata": {
    "execution": {
     "iopub.execute_input": "2024-09-29T12:13:34.430596Z",
     "iopub.status.busy": "2024-09-29T12:13:34.429509Z",
     "iopub.status.idle": "2024-09-29T12:13:34.480365Z",
     "shell.execute_reply": "2024-09-29T12:13:34.479015Z"
    },
    "papermill": {
     "duration": 0.067267,
     "end_time": "2024-09-29T12:13:34.482905",
     "exception": false,
     "start_time": "2024-09-29T12:13:34.415638",
     "status": "completed"
    },
    "tags": []
   },
   "outputs": [
    {
     "data": {
      "application/javascript": [
       "parent.postMessage({\"jupyterEvent\": \"custom.exercise_interaction\", \"data\": {\"outcomeType\": 1, \"valueTowardsCompletion\": 0.5, \"interactionType\": 1, \"questionType\": 2, \"questionId\": \"2.2_LabelB\", \"learnToolsVersion\": \"0.3.4\", \"failureMessage\": \"\", \"exceptionClass\": \"\", \"trace\": \"\"}}, \"*\")"
      ],
      "text/plain": [
       "<IPython.core.display.Javascript object>"
      ]
     },
     "metadata": {},
     "output_type": "display_data"
    },
    {
     "data": {
      "text/markdown": [
       "<span style=\"color:#33cc33\">Correct</span>"
      ],
      "text/plain": [
       "Correct"
      ]
     },
     "metadata": {},
     "output_type": "display_data"
    }
   ],
   "source": [
    "from sklearn.preprocessing import OrdinalEncoder\n",
    "\n",
    "# Drop categorical columns that will not be encoded\n",
    "label_X_train = X_train.drop(bad_label_cols, axis=1)\n",
    "label_X_valid = X_valid.drop(bad_label_cols, axis=1)\n",
    "\n",
    "# Apply ordinal encoder \n",
    "# Your code here\n",
    "ordinal_encoder = OrdinalEncoder()\n",
    "label_X_train[good_label_cols] = ordinal_encoder.fit_transform(label_X_train[good_label_cols])\n",
    "label_X_valid[good_label_cols] = ordinal_encoder.transform(label_X_valid[good_label_cols])\n",
    "\n",
    "    \n",
    "# Check your answer\n",
    "step_2.b.check()"
   ]
  },
  {
   "cell_type": "code",
   "execution_count": 13,
   "id": "981a6abb",
   "metadata": {
    "execution": {
     "iopub.execute_input": "2024-09-29T12:13:34.511124Z",
     "iopub.status.busy": "2024-09-29T12:13:34.510085Z",
     "iopub.status.idle": "2024-09-29T12:13:34.515445Z",
     "shell.execute_reply": "2024-09-29T12:13:34.514160Z"
    },
    "papermill": {
     "duration": 0.022306,
     "end_time": "2024-09-29T12:13:34.518123",
     "exception": false,
     "start_time": "2024-09-29T12:13:34.495817",
     "status": "completed"
    },
    "tags": []
   },
   "outputs": [],
   "source": [
    "# Lines below will give you a hint or solution code\n",
    "#step_2.b.hint()\n",
    "#step_2.b.solution()"
   ]
  },
  {
   "cell_type": "markdown",
   "id": "cfb91b4f",
   "metadata": {
    "papermill": {
     "duration": 0.012262,
     "end_time": "2024-09-29T12:13:34.543351",
     "exception": false,
     "start_time": "2024-09-29T12:13:34.531089",
     "status": "completed"
    },
    "tags": []
   },
   "source": [
    "Run the next code cell to get the MAE for this approach."
   ]
  },
  {
   "cell_type": "code",
   "execution_count": 14,
   "id": "3f64f62e",
   "metadata": {
    "execution": {
     "iopub.execute_input": "2024-09-29T12:13:34.571761Z",
     "iopub.status.busy": "2024-09-29T12:13:34.570768Z",
     "iopub.status.idle": "2024-09-29T12:13:36.501358Z",
     "shell.execute_reply": "2024-09-29T12:13:36.500094Z"
    },
    "papermill": {
     "duration": 1.947707,
     "end_time": "2024-09-29T12:13:36.503896",
     "exception": false,
     "start_time": "2024-09-29T12:13:34.556189",
     "status": "completed"
    },
    "tags": []
   },
   "outputs": [
    {
     "name": "stdout",
     "output_type": "stream",
     "text": [
      "MAE from Approach 2 (Ordinal Encoding):\n",
      "17098.01649543379\n"
     ]
    }
   ],
   "source": [
    "print(\"MAE from Approach 2 (Ordinal Encoding):\") \n",
    "print(score_dataset(label_X_train, label_X_valid, y_train, y_valid))"
   ]
  },
  {
   "cell_type": "markdown",
   "id": "c016a53b",
   "metadata": {
    "papermill": {
     "duration": 0.01275,
     "end_time": "2024-09-29T12:13:36.529936",
     "exception": false,
     "start_time": "2024-09-29T12:13:36.517186",
     "status": "completed"
    },
    "tags": []
   },
   "source": [
    "So far, you've tried two different approaches to dealing with categorical variables.  And, you've seen that encoding categorical data yields better results than removing columns from the dataset.\n",
    "\n",
    "Soon, you'll try one-hot encoding.  Before then, there's one additional topic we need to cover.  Begin by running the next code cell without changes.  "
   ]
  },
  {
   "cell_type": "code",
   "execution_count": 15,
   "id": "3472e663",
   "metadata": {
    "execution": {
     "iopub.execute_input": "2024-09-29T12:13:36.558112Z",
     "iopub.status.busy": "2024-09-29T12:13:36.557113Z",
     "iopub.status.idle": "2024-09-29T12:13:36.573643Z",
     "shell.execute_reply": "2024-09-29T12:13:36.572211Z"
    },
    "papermill": {
     "duration": 0.033481,
     "end_time": "2024-09-29T12:13:36.576239",
     "exception": false,
     "start_time": "2024-09-29T12:13:36.542758",
     "status": "completed"
    },
    "tags": []
   },
   "outputs": [
    {
     "data": {
      "text/plain": [
       "[('Street', 2),\n",
       " ('Utilities', 2),\n",
       " ('CentralAir', 2),\n",
       " ('LandSlope', 3),\n",
       " ('PavedDrive', 3),\n",
       " ('LotShape', 4),\n",
       " ('LandContour', 4),\n",
       " ('ExterQual', 4),\n",
       " ('KitchenQual', 4),\n",
       " ('MSZoning', 5),\n",
       " ('LotConfig', 5),\n",
       " ('BldgType', 5),\n",
       " ('ExterCond', 5),\n",
       " ('HeatingQC', 5),\n",
       " ('Condition2', 6),\n",
       " ('RoofStyle', 6),\n",
       " ('Foundation', 6),\n",
       " ('Heating', 6),\n",
       " ('Functional', 6),\n",
       " ('SaleCondition', 6),\n",
       " ('RoofMatl', 7),\n",
       " ('HouseStyle', 8),\n",
       " ('Condition1', 9),\n",
       " ('SaleType', 9),\n",
       " ('Exterior1st', 15),\n",
       " ('Exterior2nd', 16),\n",
       " ('Neighborhood', 25)]"
      ]
     },
     "execution_count": 15,
     "metadata": {},
     "output_type": "execute_result"
    }
   ],
   "source": [
    "# Get number of unique entries in each column with categorical data\n",
    "object_nunique = list(map(lambda col: X_train[col].nunique(), object_cols))\n",
    "d = dict(zip(object_cols, object_nunique))\n",
    "\n",
    "# Print number of unique entries by column, in ascending order\n",
    "sorted(d.items(), key=lambda x: x[1])"
   ]
  },
  {
   "cell_type": "markdown",
   "id": "b14c72d5",
   "metadata": {
    "papermill": {
     "duration": 0.012796,
     "end_time": "2024-09-29T12:13:36.601903",
     "exception": false,
     "start_time": "2024-09-29T12:13:36.589107",
     "status": "completed"
    },
    "tags": []
   },
   "source": [
    "# Step 3: Investigating cardinality\n",
    "\n",
    "### Part A\n",
    "\n",
    "The output above shows, for each column with categorical data, the number of unique values in the column.  For instance, the `'Street'` column in the training data has two unique values: `'Grvl'` and `'Pave'`, corresponding to a gravel road and a paved road, respectively.\n",
    "\n",
    "We refer to the number of unique entries of a categorical variable as the **cardinality** of that categorical variable.  For instance, the `'Street'` variable has cardinality 2.\n",
    "\n",
    "Use the output above to answer the questions below."
   ]
  },
  {
   "cell_type": "code",
   "execution_count": 16,
   "id": "a435b531",
   "metadata": {
    "execution": {
     "iopub.execute_input": "2024-09-29T12:13:36.629645Z",
     "iopub.status.busy": "2024-09-29T12:13:36.629125Z",
     "iopub.status.idle": "2024-09-29T12:13:36.642485Z",
     "shell.execute_reply": "2024-09-29T12:13:36.640933Z"
    },
    "papermill": {
     "duration": 0.029995,
     "end_time": "2024-09-29T12:13:36.644836",
     "exception": false,
     "start_time": "2024-09-29T12:13:36.614841",
     "status": "completed"
    },
    "tags": []
   },
   "outputs": [
    {
     "name": "stdout",
     "output_type": "stream",
     "text": [
      "['Neighborhood', 'Exterior1st', 'Exterior2nd']\n",
      "25\n"
     ]
    },
    {
     "data": {
      "application/javascript": [
       "parent.postMessage({\"jupyterEvent\": \"custom.exercise_interaction\", \"data\": {\"outcomeType\": 1, \"valueTowardsCompletion\": 0.5, \"interactionType\": 1, \"questionType\": 1, \"questionId\": \"3.1_CardinalityA\", \"learnToolsVersion\": \"0.3.4\", \"failureMessage\": \"\", \"exceptionClass\": \"\", \"trace\": \"\"}}, \"*\")"
      ],
      "text/plain": [
       "<IPython.core.display.Javascript object>"
      ]
     },
     "metadata": {},
     "output_type": "display_data"
    },
    {
     "data": {
      "text/markdown": [
       "<span style=\"color:#33cc33\">Correct</span>"
      ],
      "text/plain": [
       "Correct"
      ]
     },
     "metadata": {},
     "output_type": "display_data"
    }
   ],
   "source": [
    "# Fill in the line below: How many categorical variables in the training data\n",
    "# have cardinality greater than 10?\n",
    "col_names_with_cardinality_g10 = [x[0] for x in d.items() if x[1]>10]\n",
    "high_cardinality_numcols = len(col_names_with_cardinality_g10)\n",
    "\n",
    "# Fill in the line below: How many columns are needed to one-hot encode the \n",
    "# 'Neighborhood' variable in the training data?\n",
    "num_cols_neighborhood = d['Neighborhood']\n",
    "\n",
    "print(col_names_with_cardinality_g10)\n",
    "print(num_cols_neighborhood)\n",
    "\n",
    "# Check your answers\n",
    "step_3.a.check()"
   ]
  },
  {
   "cell_type": "code",
   "execution_count": 17,
   "id": "9eeb3cf6",
   "metadata": {
    "execution": {
     "iopub.execute_input": "2024-09-29T12:13:36.673586Z",
     "iopub.status.busy": "2024-09-29T12:13:36.673054Z",
     "iopub.status.idle": "2024-09-29T12:13:36.678119Z",
     "shell.execute_reply": "2024-09-29T12:13:36.677048Z"
    },
    "papermill": {
     "duration": 0.022231,
     "end_time": "2024-09-29T12:13:36.680297",
     "exception": false,
     "start_time": "2024-09-29T12:13:36.658066",
     "status": "completed"
    },
    "tags": []
   },
   "outputs": [],
   "source": [
    "# Lines below will give you a hint or solution code\n",
    "#step_3.a.hint()\n",
    "#step_3.a.solution()"
   ]
  },
  {
   "cell_type": "markdown",
   "id": "c565943d",
   "metadata": {
    "papermill": {
     "duration": 0.012934,
     "end_time": "2024-09-29T12:13:36.706436",
     "exception": false,
     "start_time": "2024-09-29T12:13:36.693502",
     "status": "completed"
    },
    "tags": []
   },
   "source": [
    "### Part B\n",
    "\n",
    "For large datasets with many rows, one-hot encoding can greatly expand the size of the dataset.  For this reason, we typically will only one-hot encode columns with relatively low cardinality.  Then, high cardinality columns can either be dropped from the dataset, or we can use ordinal encoding.\n",
    "\n",
    "As an example, consider a dataset with 10,000 rows, and containing one categorical column with 100 unique entries.  \n",
    "- If this column is replaced with the corresponding one-hot encoding, how many entries are added to the dataset?  \n",
    "- If we instead replace the column with the ordinal encoding, how many entries are added?  \n",
    "\n",
    "Use your answers to fill in the lines below."
   ]
  },
  {
   "cell_type": "code",
   "execution_count": 18,
   "id": "6e0d888c",
   "metadata": {
    "execution": {
     "iopub.execute_input": "2024-09-29T12:13:36.735281Z",
     "iopub.status.busy": "2024-09-29T12:13:36.734278Z",
     "iopub.status.idle": "2024-09-29T12:13:36.745542Z",
     "shell.execute_reply": "2024-09-29T12:13:36.744075Z"
    },
    "papermill": {
     "duration": 0.029006,
     "end_time": "2024-09-29T12:13:36.748582",
     "exception": false,
     "start_time": "2024-09-29T12:13:36.719576",
     "status": "completed"
    },
    "tags": []
   },
   "outputs": [
    {
     "data": {
      "application/javascript": [
       "parent.postMessage({\"jupyterEvent\": \"custom.exercise_interaction\", \"data\": {\"outcomeType\": 1, \"valueTowardsCompletion\": 0.5, \"interactionType\": 1, \"questionType\": 1, \"questionId\": \"3.2_CardinalityB\", \"learnToolsVersion\": \"0.3.4\", \"failureMessage\": \"\", \"exceptionClass\": \"\", \"trace\": \"\"}}, \"*\")"
      ],
      "text/plain": [
       "<IPython.core.display.Javascript object>"
      ]
     },
     "metadata": {},
     "output_type": "display_data"
    },
    {
     "data": {
      "text/markdown": [
       "<span style=\"color:#33cc33\">Correct</span>"
      ],
      "text/plain": [
       "Correct"
      ]
     },
     "metadata": {},
     "output_type": "display_data"
    }
   ],
   "source": [
    "# Fill in the line below: How many entries are added to the dataset by \n",
    "# replacing the column with a one-hot encoding?\n",
    "OH_entries_added = (100-1)*10000\n",
    "\n",
    "# Fill in the line below: How many entries are added to the dataset by\n",
    "# replacing the column with an ordinal encoding?\n",
    "label_entries_added = 0\n",
    "\n",
    "# Check your answers\n",
    "step_3.b.check()"
   ]
  },
  {
   "cell_type": "code",
   "execution_count": 19,
   "id": "0d1a9d15",
   "metadata": {
    "execution": {
     "iopub.execute_input": "2024-09-29T12:13:36.778297Z",
     "iopub.status.busy": "2024-09-29T12:13:36.777838Z",
     "iopub.status.idle": "2024-09-29T12:13:36.783054Z",
     "shell.execute_reply": "2024-09-29T12:13:36.781896Z"
    },
    "papermill": {
     "duration": 0.023036,
     "end_time": "2024-09-29T12:13:36.785600",
     "exception": false,
     "start_time": "2024-09-29T12:13:36.762564",
     "status": "completed"
    },
    "tags": []
   },
   "outputs": [],
   "source": [
    "# Lines below will give you a hint or solution code\n",
    "#step_3.b.hint()\n",
    "#step_3.b.solution()"
   ]
  },
  {
   "cell_type": "markdown",
   "id": "1541e0ab",
   "metadata": {
    "papermill": {
     "duration": 0.013254,
     "end_time": "2024-09-29T12:13:36.812594",
     "exception": false,
     "start_time": "2024-09-29T12:13:36.799340",
     "status": "completed"
    },
    "tags": []
   },
   "source": [
    "Next, you'll experiment with one-hot encoding.  But, instead of encoding all of the categorical variables in the dataset, you'll only create a one-hot encoding for columns with cardinality less than 10.\n",
    "\n",
    "Run the code cell below without changes to set `low_cardinality_cols` to a Python list containing the columns that will be one-hot encoded.  Likewise, `high_cardinality_cols` contains a list of categorical columns that will be dropped from the dataset."
   ]
  },
  {
   "cell_type": "code",
   "execution_count": 20,
   "id": "f90c2f36",
   "metadata": {
    "execution": {
     "iopub.execute_input": "2024-09-29T12:13:36.841901Z",
     "iopub.status.busy": "2024-09-29T12:13:36.841092Z",
     "iopub.status.idle": "2024-09-29T12:13:36.853457Z",
     "shell.execute_reply": "2024-09-29T12:13:36.852030Z"
    },
    "papermill": {
     "duration": 0.029688,
     "end_time": "2024-09-29T12:13:36.855870",
     "exception": false,
     "start_time": "2024-09-29T12:13:36.826182",
     "status": "completed"
    },
    "tags": []
   },
   "outputs": [
    {
     "name": "stdout",
     "output_type": "stream",
     "text": [
      "Categorical columns that will be one-hot encoded: ['MSZoning', 'Street', 'LotShape', 'LandContour', 'Utilities', 'LotConfig', 'LandSlope', 'Condition1', 'Condition2', 'BldgType', 'HouseStyle', 'RoofStyle', 'RoofMatl', 'ExterQual', 'ExterCond', 'Foundation', 'Heating', 'HeatingQC', 'CentralAir', 'KitchenQual', 'Functional', 'PavedDrive', 'SaleType', 'SaleCondition']\n",
      "\n",
      "Categorical columns that will be dropped from the dataset: ['Neighborhood', 'Exterior2nd', 'Exterior1st']\n"
     ]
    }
   ],
   "source": [
    "# Columns that will be one-hot encoded\n",
    "low_cardinality_cols = [col for col in object_cols if X_train[col].nunique() < 10]\n",
    "\n",
    "# Columns that will be dropped from the dataset\n",
    "high_cardinality_cols = list(set(object_cols)-set(low_cardinality_cols))\n",
    "\n",
    "print('Categorical columns that will be one-hot encoded:', low_cardinality_cols)\n",
    "print('\\nCategorical columns that will be dropped from the dataset:', high_cardinality_cols)"
   ]
  },
  {
   "cell_type": "markdown",
   "id": "b4395891",
   "metadata": {
    "papermill": {
     "duration": 0.01331,
     "end_time": "2024-09-29T12:13:36.882800",
     "exception": false,
     "start_time": "2024-09-29T12:13:36.869490",
     "status": "completed"
    },
    "tags": []
   },
   "source": [
    "# Step 4: One-hot encoding\n",
    "\n",
    "Use the next code cell to one-hot encode the data in `X_train` and `X_valid`.  Set the preprocessed DataFrames to `OH_X_train` and `OH_X_valid`, respectively.  \n",
    "- The full list of categorical columns in the dataset can be found in the Python list `object_cols`.\n",
    "- You should only one-hot encode the categorical columns in `low_cardinality_cols`.  All other categorical columns should be dropped from the dataset. "
   ]
  },
  {
   "cell_type": "code",
   "execution_count": 21,
   "id": "f984fe55",
   "metadata": {
    "execution": {
     "iopub.execute_input": "2024-09-29T12:13:36.912461Z",
     "iopub.status.busy": "2024-09-29T12:13:36.911912Z",
     "iopub.status.idle": "2024-09-29T12:13:36.970782Z",
     "shell.execute_reply": "2024-09-29T12:13:36.969613Z"
    },
    "papermill": {
     "duration": 0.07688,
     "end_time": "2024-09-29T12:13:36.973280",
     "exception": false,
     "start_time": "2024-09-29T12:13:36.896400",
     "status": "completed"
    },
    "tags": []
   },
   "outputs": [
    {
     "name": "stderr",
     "output_type": "stream",
     "text": [
      "/opt/conda/lib/python3.10/site-packages/sklearn/preprocessing/_encoders.py:868: FutureWarning: `sparse` was renamed to `sparse_output` in version 1.2 and will be removed in 1.4. `sparse_output` is ignored unless you leave `sparse` to its default value.\n",
      "  warnings.warn(\n"
     ]
    },
    {
     "data": {
      "application/javascript": [
       "parent.postMessage({\"jupyterEvent\": \"custom.exercise_interaction\", \"data\": {\"outcomeType\": 1, \"valueTowardsCompletion\": 0.5, \"interactionType\": 1, \"questionType\": 2, \"questionId\": \"4_OneHot\", \"learnToolsVersion\": \"0.3.4\", \"failureMessage\": \"\", \"exceptionClass\": \"\", \"trace\": \"\"}}, \"*\")"
      ],
      "text/plain": [
       "<IPython.core.display.Javascript object>"
      ]
     },
     "metadata": {},
     "output_type": "display_data"
    },
    {
     "data": {
      "text/markdown": [
       "<span style=\"color:#33cc33\">Correct</span>"
      ],
      "text/plain": [
       "Correct"
      ]
     },
     "metadata": {},
     "output_type": "display_data"
    }
   ],
   "source": [
    "from sklearn.preprocessing import OneHotEncoder\n",
    "\n",
    "# Use as many lines of code as you need!\n",
    "\n",
    "# removing bad label columns\n",
    "#selected_OH_col = list(set(low_cardinality_cols) - set(bad_label_cols))\n",
    "\n",
    "OH_encoder = OneHotEncoder(handle_unknown = 'ignore', sparse = False)\n",
    "OH_low_card_train = pd.DataFrame(OH_encoder.fit_transform(X_train[low_cardinality_cols]), index = X_train.index)# Your code here\n",
    "OH_low_card_valid = pd.DataFrame(OH_encoder.transform(X_valid[low_cardinality_cols]), index = X_valid.index) # Your code here\n",
    "\n",
    "num_X_train = X_train.drop(object_cols, axis = 1)\n",
    "num_X_valid = X_valid.drop(object_cols, axis = 1)\n",
    "\n",
    "OH_X_train = pd.concat([num_X_train, OH_low_card_train], axis = 1)\n",
    "OH_X_valid = pd.concat([num_X_valid, OH_low_card_valid], axis = 1)\n",
    "\n",
    "OH_X_train.columns = OH_X_train.columns.astype(str)\n",
    "OH_X_valid.columns = OH_X_valid.columns.astype(str)\n",
    "\n",
    "\n",
    "# Check your answer\n",
    "step_4.check()"
   ]
  },
  {
   "cell_type": "code",
   "execution_count": 22,
   "id": "9d49dc7a",
   "metadata": {
    "execution": {
     "iopub.execute_input": "2024-09-29T12:13:37.004210Z",
     "iopub.status.busy": "2024-09-29T12:13:37.003677Z",
     "iopub.status.idle": "2024-09-29T12:13:37.014548Z",
     "shell.execute_reply": "2024-09-29T12:13:37.013405Z"
    },
    "papermill": {
     "duration": 0.02977,
     "end_time": "2024-09-29T12:13:37.017051",
     "exception": false,
     "start_time": "2024-09-29T12:13:36.987281",
     "status": "completed"
    },
    "tags": []
   },
   "outputs": [
    {
     "data": {
      "application/javascript": [
       "parent.postMessage({\"jupyterEvent\": \"custom.exercise_interaction\", \"data\": {\"interactionType\": 3, \"questionType\": 2, \"questionId\": \"4_OneHot\", \"learnToolsVersion\": \"0.3.4\", \"valueTowardsCompletion\": 0.0, \"failureMessage\": \"\", \"exceptionClass\": \"\", \"trace\": \"\", \"outcomeType\": 4}}, \"*\")"
      ],
      "text/plain": [
       "<IPython.core.display.Javascript object>"
      ]
     },
     "metadata": {},
     "output_type": "display_data"
    },
    {
     "data": {
      "text/markdown": [
       "<span style=\"color:#33cc99\">Solution:</span> \n",
       "```python\n",
       "# Apply one-hot encoder to each column with categorical data\n",
       "OH_encoder = OneHotEncoder(handle_unknown='ignore', sparse=False)\n",
       "OH_cols_train = pd.DataFrame(OH_encoder.fit_transform(X_train[low_cardinality_cols]))\n",
       "OH_cols_valid = pd.DataFrame(OH_encoder.transform(X_valid[low_cardinality_cols]))\n",
       "\n",
       "# One-hot encoding removed index; put it back\n",
       "OH_cols_train.index = X_train.index\n",
       "OH_cols_valid.index = X_valid.index\n",
       "\n",
       "# Remove categorical columns (will replace with one-hot encoding)\n",
       "num_X_train = X_train.drop(object_cols, axis=1)\n",
       "num_X_valid = X_valid.drop(object_cols, axis=1)\n",
       "\n",
       "# Add one-hot encoded columns to numerical features\n",
       "OH_X_train = pd.concat([num_X_train, OH_cols_train], axis=1)\n",
       "OH_X_valid = pd.concat([num_X_valid, OH_cols_valid], axis=1)\n",
       "\n",
       "# Ensure all columns have string type\n",
       "OH_X_train.columns = OH_X_train.columns.astype(str)\n",
       "OH_X_valid.columns = OH_X_valid.columns.astype(str)\n",
       "\n",
       "```"
      ],
      "text/plain": [
       "Solution: \n",
       "```python\n",
       "# Apply one-hot encoder to each column with categorical data\n",
       "OH_encoder = OneHotEncoder(handle_unknown='ignore', sparse=False)\n",
       "OH_cols_train = pd.DataFrame(OH_encoder.fit_transform(X_train[low_cardinality_cols]))\n",
       "OH_cols_valid = pd.DataFrame(OH_encoder.transform(X_valid[low_cardinality_cols]))\n",
       "\n",
       "# One-hot encoding removed index; put it back\n",
       "OH_cols_train.index = X_train.index\n",
       "OH_cols_valid.index = X_valid.index\n",
       "\n",
       "# Remove categorical columns (will replace with one-hot encoding)\n",
       "num_X_train = X_train.drop(object_cols, axis=1)\n",
       "num_X_valid = X_valid.drop(object_cols, axis=1)\n",
       "\n",
       "# Add one-hot encoded columns to numerical features\n",
       "OH_X_train = pd.concat([num_X_train, OH_cols_train], axis=1)\n",
       "OH_X_valid = pd.concat([num_X_valid, OH_cols_valid], axis=1)\n",
       "\n",
       "# Ensure all columns have string type\n",
       "OH_X_train.columns = OH_X_train.columns.astype(str)\n",
       "OH_X_valid.columns = OH_X_valid.columns.astype(str)\n",
       "\n",
       "```"
      ]
     },
     "metadata": {},
     "output_type": "display_data"
    }
   ],
   "source": [
    "# Lines below will give you a hint or solution code\n",
    "#step_4.hint()\n",
    "step_4.solution()"
   ]
  },
  {
   "cell_type": "markdown",
   "id": "9c0d80b7",
   "metadata": {
    "papermill": {
     "duration": 0.014073,
     "end_time": "2024-09-29T12:13:37.045736",
     "exception": false,
     "start_time": "2024-09-29T12:13:37.031663",
     "status": "completed"
    },
    "tags": []
   },
   "source": [
    "Run the next code cell to get the MAE for this approach."
   ]
  },
  {
   "cell_type": "code",
   "execution_count": 23,
   "id": "53a45824",
   "metadata": {
    "execution": {
     "iopub.execute_input": "2024-09-29T12:13:37.076458Z",
     "iopub.status.busy": "2024-09-29T12:13:37.075923Z",
     "iopub.status.idle": "2024-09-29T12:13:39.411594Z",
     "shell.execute_reply": "2024-09-29T12:13:39.410106Z"
    },
    "papermill": {
     "duration": 2.354201,
     "end_time": "2024-09-29T12:13:39.414343",
     "exception": false,
     "start_time": "2024-09-29T12:13:37.060142",
     "status": "completed"
    },
    "tags": []
   },
   "outputs": [
    {
     "name": "stdout",
     "output_type": "stream",
     "text": [
      "MAE from Approach 3 (One-Hot Encoding):\n",
      "17525.345719178084\n"
     ]
    }
   ],
   "source": [
    "print(\"MAE from Approach 3 (One-Hot Encoding):\") \n",
    "print(score_dataset(OH_X_train, OH_X_valid, y_train, y_valid))"
   ]
  },
  {
   "cell_type": "markdown",
   "id": "44a6f8f4",
   "metadata": {
    "papermill": {
     "duration": 0.014368,
     "end_time": "2024-09-29T12:13:39.443412",
     "exception": false,
     "start_time": "2024-09-29T12:13:39.429044",
     "status": "completed"
    },
    "tags": []
   },
   "source": [
    "# Generate test predictions and submit your results\n",
    "\n",
    "After you complete Step 4, if you'd like to use what you've learned to submit your results to the leaderboard, you'll need to preprocess the test data before generating predictions.\n",
    "\n",
    "**This step is completely optional, and you do not need to submit results to the leaderboard to successfully complete the exercise.**\n",
    "\n",
    "Check out the previous exercise if you need help with remembering how to [join the competition](https://www.kaggle.com/c/home-data-for-ml-course) or save your results to CSV.  Once you have generated a file with your results, follow the instructions below:\n",
    "1. Begin by clicking on the **Save Version** button in the top right corner of the window.  This will generate a pop-up window.  \n",
    "2. Ensure that the **Save and Run All** option is selected, and then click on the **Save** button.\n",
    "3. This generates a window in the bottom left corner of the notebook.  After it has finished running, click on the number to the right of the **Save Version** button.  This pulls up a list of versions on the right of the screen.  Click on the ellipsis **(...)** to the right of the most recent version, and select **Open in Viewer**.  This brings you into view mode of the same page. You will need to scroll down to get back to these instructions.\n",
    "4. Click on the **Data** tab near the top of the screen.  Then, click on the file you would like to submit, and click on the **Submit** button to submit your results to the leaderboard.\n",
    "\n",
    "You have now successfully submitted to the competition!\n",
    "\n",
    "If you want to keep working to improve your performance, select the **Edit** button in the top right of the screen. Then you can change your code and repeat the process. There's a lot of room to improve, and you will climb up the leaderboard as you work.\n"
   ]
  },
  {
   "cell_type": "code",
   "execution_count": 24,
   "id": "de0fac93",
   "metadata": {
    "execution": {
     "iopub.execute_input": "2024-09-29T12:13:39.475626Z",
     "iopub.status.busy": "2024-09-29T12:13:39.475025Z",
     "iopub.status.idle": "2024-09-29T12:13:41.844050Z",
     "shell.execute_reply": "2024-09-29T12:13:41.842806Z"
    },
    "papermill": {
     "duration": 2.388857,
     "end_time": "2024-09-29T12:13:41.846896",
     "exception": false,
     "start_time": "2024-09-29T12:13:39.458039",
     "status": "completed"
    },
    "tags": []
   },
   "outputs": [
    {
     "name": "stdout",
     "output_type": "stream",
     "text": [
      "Categorical columns that will be ordinal encoded: ['Street', 'LotShape', 'LandContour', 'LotConfig', 'LandSlope', 'Neighborhood', 'Condition1', 'Condition2', 'BldgType', 'HouseStyle', 'RoofStyle', 'RoofMatl', 'ExterQual', 'ExterCond', 'Foundation', 'Heating', 'HeatingQC', 'CentralAir', 'PavedDrive', 'SaleCondition']\n",
      "\n",
      "Categorical columns that will be dropped from the dataset: ['Exterior2nd', 'Utilities', 'Exterior1st', 'Functional', 'KitchenQual', 'MSZoning', 'SaleType']\n",
      "Index(['BsmtFinSF1', 'BsmtFinSF2', 'BsmtUnfSF', 'TotalBsmtSF', 'BsmtFullBath',\n",
      "       'BsmtHalfBath', 'GarageCars', 'GarageArea'],\n",
      "      dtype='object')\n",
      "[]\n",
      "53\n",
      "53\n",
      "[]\n",
      "[dtype('float64'), dtype('float64'), dtype('float64'), dtype('float64'), dtype('float64'), dtype('float64'), dtype('float64'), dtype('float64')]\n"
     ]
    }
   ],
   "source": [
    "# (Optional) Your code here\n",
    "\n",
    "#new_X_train = X.copy()\n",
    "#new_y_train = y.copy()\n",
    "\n",
    "#get columns having nan\n",
    "#nan_col_names = new_X_train.columns[new_X_train.isnull().any()]\n",
    "\n",
    "# Categorical columns in the training data\n",
    "object_cols = [col for col in X.columns if X[col].dtype == \"object\"]\n",
    "\n",
    "# Columns that can be safely ordinal encoded\n",
    "good_label_cols = [col for col in object_cols if \n",
    "                   set(X_test[col]).issubset(set(X[col]))]\n",
    "        \n",
    "# Problematic columns that will be dropped from the dataset\n",
    "bad_label_cols = list(set(object_cols)-set(good_label_cols))\n",
    "\n",
    "\n",
    "\n",
    "print('Categorical columns that will be ordinal encoded:', good_label_cols)\n",
    "print('\\nCategorical columns that will be dropped from the dataset:', bad_label_cols)\n",
    "# Drop categorical columns that will not be encoded\n",
    "label_X = X.drop(bad_label_cols, axis=1)\n",
    "label_X_test = X_test.drop(bad_label_cols, axis=1)\n",
    "\n",
    "nan_col_names_test = label_X_test.columns[label_X_test.isnull().any()]\n",
    "print(nan_col_names_test)\n",
    "print([i for i in nan_col_names_test if i in object_cols])\n",
    "\n",
    "# removing columns not in label_X from label_X_test\n",
    "test_col = label_X_test.columns\n",
    "X_col = label_X.columns\n",
    "print(len(test_col))\n",
    "print(len(X_col))\n",
    "\n",
    "print([i for i in test_col if i not in X_col])\n",
    "\n",
    "# nan only in numeric data type\n",
    "print([label_X_test[i].dtype for i in nan_col_names_test])\n",
    "\n",
    "# applying SimpleImputer to replace the values\n",
    "num_col_names = [i for i in label_X.columns if label_X[i].dtype != 'object']\n",
    "from sklearn.impute import SimpleImputer\n",
    "simple_imputer = SimpleImputer()\n",
    "label_X_num = pd.DataFrame(simple_imputer.fit_transform(label_X[num_col_names]),index = label_X.index)\n",
    "label_X_test[num_col_names] = pd.DataFrame(simple_imputer.transform(label_X_test[num_col_names]), index = label_X_test.index )\n",
    "\n",
    "\n",
    "# Apply ordinal encoder \n",
    "ordinal_encoder = OrdinalEncoder()\n",
    "label_X[good_label_cols] = ordinal_encoder.fit_transform(label_X[good_label_cols])\n",
    "label_X_test[good_label_cols] = ordinal_encoder.transform(label_X_test[good_label_cols])\n",
    "\n",
    "test_data = label_X_test;\n",
    "\n",
    "#print(score_dataset(label_X_train, label_X_valid, y_train, y_valid))\n",
    "model = RandomForestRegressor(n_estimators=100, random_state=0)\n",
    "model.fit(label_X, y)\n",
    "test_preds = model.predict(label_X_test)\n"
   ]
  },
  {
   "cell_type": "code",
   "execution_count": 25,
   "id": "1bce2b98",
   "metadata": {
    "execution": {
     "iopub.execute_input": "2024-09-29T12:13:41.881470Z",
     "iopub.status.busy": "2024-09-29T12:13:41.880946Z",
     "iopub.status.idle": "2024-09-29T12:13:41.893696Z",
     "shell.execute_reply": "2024-09-29T12:13:41.892518Z"
    },
    "papermill": {
     "duration": 0.032161,
     "end_time": "2024-09-29T12:13:41.896371",
     "exception": false,
     "start_time": "2024-09-29T12:13:41.864210",
     "status": "completed"
    },
    "tags": []
   },
   "outputs": [],
   "source": [
    "# Run the code to save predictions in the format used for competition scoring\n",
    "\n",
    "output = pd.DataFrame({'Id': test_data.index,\n",
    "                       'SalePrice': test_preds})\n",
    "output.to_csv('submission.csv', index=False)"
   ]
  },
  {
   "cell_type": "markdown",
   "id": "106da7c2",
   "metadata": {
    "papermill": {
     "duration": 0.015383,
     "end_time": "2024-09-29T12:13:41.929622",
     "exception": false,
     "start_time": "2024-09-29T12:13:41.914239",
     "status": "completed"
    },
    "tags": []
   },
   "source": [
    "# Keep going\n",
    "\n",
    "With missing value handling and categorical encoding, your modeling process is getting complex. This complexity gets worse when you want to save your model to use in the future. The key to managing this complexity is something called **pipelines**. \n",
    "\n",
    "**[Learn to use pipelines](https://www.kaggle.com/alexisbcook/pipelines)** to preprocess datasets with categorical variables, missing values and any other messiness your data throws at you."
   ]
  },
  {
   "cell_type": "markdown",
   "id": "6237bca6",
   "metadata": {
    "papermill": {
     "duration": 0.014397,
     "end_time": "2024-09-29T12:13:41.959838",
     "exception": false,
     "start_time": "2024-09-29T12:13:41.945441",
     "status": "completed"
    },
    "tags": []
   },
   "source": [
    "---\n",
    "\n",
    "\n",
    "\n",
    "\n",
    "*Have questions or comments? Visit the [course discussion forum](https://www.kaggle.com/learn/intermediate-machine-learning/discussion) to chat with other learners.*"
   ]
  }
 ],
 "metadata": {
  "kaggle": {
   "accelerator": "none",
   "dataSources": [
    {
     "databundleVersionId": 111096,
     "sourceId": 10211,
     "sourceType": "competition"
    }
   ],
   "isGpuEnabled": false,
   "isInternetEnabled": false,
   "language": "python",
   "sourceType": "notebook"
  },
  "kernelspec": {
   "display_name": "Python 3",
   "language": "python",
   "name": "python3"
  },
  "language_info": {
   "codemirror_mode": {
    "name": "ipython",
    "version": 3
   },
   "file_extension": ".py",
   "mimetype": "text/x-python",
   "name": "python",
   "nbconvert_exporter": "python",
   "pygments_lexer": "ipython3",
   "version": "3.10.14"
  },
  "papermill": {
   "default_parameters": {},
   "duration": 15.928306,
   "end_time": "2024-09-29T12:13:42.598185",
   "environment_variables": {},
   "exception": null,
   "input_path": "__notebook__.ipynb",
   "output_path": "__notebook__.ipynb",
   "parameters": {},
   "start_time": "2024-09-29T12:13:26.669879",
   "version": "2.6.0"
  }
 },
 "nbformat": 4,
 "nbformat_minor": 5
}
