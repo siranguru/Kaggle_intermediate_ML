{
 "cells": [
  {
   "cell_type": "markdown",
   "id": "db550809",
   "metadata": {
    "papermill": {
     "duration": 0.009768,
     "end_time": "2024-09-29T12:10:39.965133",
     "exception": false,
     "start_time": "2024-09-29T12:10:39.955365",
     "status": "completed"
    },
    "tags": []
   },
   "source": [
    "**This notebook is an exercise in the [Intermediate Machine Learning](https://www.kaggle.com/learn/intermediate-machine-learning) course.  You can reference the tutorial at [this link](https://www.kaggle.com/alexisbcook/missing-values).**\n",
    "\n",
    "---\n"
   ]
  },
  {
   "cell_type": "markdown",
   "id": "fb4a0b32",
   "metadata": {
    "papermill": {
     "duration": 0.008605,
     "end_time": "2024-09-29T12:10:39.982832",
     "exception": false,
     "start_time": "2024-09-29T12:10:39.974227",
     "status": "completed"
    },
    "tags": []
   },
   "source": [
    "Now it's your turn to test your new knowledge of **missing values** handling. You'll probably find it makes a big difference.\n",
    "\n",
    "# Setup\n",
    "\n",
    "The questions will give you feedback on your work. Run the following cell to set up the feedback system."
   ]
  },
  {
   "cell_type": "code",
   "execution_count": 1,
   "id": "39d085f8",
   "metadata": {
    "execution": {
     "iopub.execute_input": "2024-09-29T12:10:40.003408Z",
     "iopub.status.busy": "2024-09-29T12:10:40.002924Z",
     "iopub.status.idle": "2024-09-29T12:10:40.961302Z",
     "shell.execute_reply": "2024-09-29T12:10:40.960019Z"
    },
    "papermill": {
     "duration": 0.972479,
     "end_time": "2024-09-29T12:10:40.964334",
     "exception": false,
     "start_time": "2024-09-29T12:10:39.991855",
     "status": "completed"
    },
    "tags": []
   },
   "outputs": [
    {
     "name": "stdout",
     "output_type": "stream",
     "text": [
      "Setup Complete\n"
     ]
    }
   ],
   "source": [
    "# Set up code checking\n",
    "import os\n",
    "if not os.path.exists(\"../input/train.csv\"):\n",
    "    os.symlink(\"../input/home-data-for-ml-course/train.csv\", \"../input/train.csv\")  \n",
    "    os.symlink(\"../input/home-data-for-ml-course/test.csv\", \"../input/test.csv\") \n",
    "from learntools.core import binder\n",
    "binder.bind(globals())\n",
    "from learntools.ml_intermediate.ex2 import *\n",
    "print(\"Setup Complete\")"
   ]
  },
  {
   "cell_type": "markdown",
   "id": "e57f489e",
   "metadata": {
    "papermill": {
     "duration": 0.009137,
     "end_time": "2024-09-29T12:10:40.983319",
     "exception": false,
     "start_time": "2024-09-29T12:10:40.974182",
     "status": "completed"
    },
    "tags": []
   },
   "source": [
    "In this exercise, you will work with data from the [Housing Prices Competition for Kaggle Learn Users](https://www.kaggle.com/c/home-data-for-ml-course). \n",
    "\n",
    "![Ames Housing dataset image](https://storage.googleapis.com/kaggle-media/learn/images/lTJVG4e.png)\n",
    "\n",
    "Run the next code cell without changes to load the training and validation sets in `X_train`, `X_valid`, `y_train`, and `y_valid`.  The test set is loaded in `X_test`."
   ]
  },
  {
   "cell_type": "code",
   "execution_count": 2,
   "id": "40ad95c4",
   "metadata": {
    "execution": {
     "iopub.execute_input": "2024-09-29T12:10:41.003774Z",
     "iopub.status.busy": "2024-09-29T12:10:41.003218Z",
     "iopub.status.idle": "2024-09-29T12:10:42.544547Z",
     "shell.execute_reply": "2024-09-29T12:10:42.543383Z"
    },
    "papermill": {
     "duration": 1.554993,
     "end_time": "2024-09-29T12:10:42.547465",
     "exception": false,
     "start_time": "2024-09-29T12:10:40.992472",
     "status": "completed"
    },
    "tags": []
   },
   "outputs": [],
   "source": [
    "import pandas as pd\n",
    "from sklearn.model_selection import train_test_split\n",
    "\n",
    "# Read the data\n",
    "X_full = pd.read_csv('../input/train.csv', index_col='Id')\n",
    "X_test_full = pd.read_csv('../input/test.csv', index_col='Id')\n",
    "\n",
    "# Remove rows with missing target, separate target from predictors\n",
    "X_full.dropna(axis=0, subset=['SalePrice'], inplace=True)\n",
    "y = X_full.SalePrice\n",
    "X_full.drop(['SalePrice'], axis=1, inplace=True)\n",
    "\n",
    "# To keep things simple, we'll use only numerical predictors\n",
    "X = X_full.select_dtypes(exclude=['object'])\n",
    "X_test = X_test_full.select_dtypes(exclude=['object'])\n",
    "\n",
    "# Break off validation set from training data\n",
    "X_train, X_valid, y_train, y_valid = train_test_split(X, y, train_size=0.8, test_size=0.2,\n",
    "                                                      random_state=0)"
   ]
  },
  {
   "cell_type": "markdown",
   "id": "34ec5b4a",
   "metadata": {
    "papermill": {
     "duration": 0.009159,
     "end_time": "2024-09-29T12:10:42.566552",
     "exception": false,
     "start_time": "2024-09-29T12:10:42.557393",
     "status": "completed"
    },
    "tags": []
   },
   "source": [
    "Use the next code cell to print the first five rows of the data."
   ]
  },
  {
   "cell_type": "code",
   "execution_count": 3,
   "id": "7b96560d",
   "metadata": {
    "execution": {
     "iopub.execute_input": "2024-09-29T12:10:42.586869Z",
     "iopub.status.busy": "2024-09-29T12:10:42.586449Z",
     "iopub.status.idle": "2024-09-29T12:10:42.613585Z",
     "shell.execute_reply": "2024-09-29T12:10:42.612338Z"
    },
    "papermill": {
     "duration": 0.040403,
     "end_time": "2024-09-29T12:10:42.616174",
     "exception": false,
     "start_time": "2024-09-29T12:10:42.575771",
     "status": "completed"
    },
    "tags": []
   },
   "outputs": [
    {
     "data": {
      "text/html": [
       "<div>\n",
       "<style scoped>\n",
       "    .dataframe tbody tr th:only-of-type {\n",
       "        vertical-align: middle;\n",
       "    }\n",
       "\n",
       "    .dataframe tbody tr th {\n",
       "        vertical-align: top;\n",
       "    }\n",
       "\n",
       "    .dataframe thead th {\n",
       "        text-align: right;\n",
       "    }\n",
       "</style>\n",
       "<table border=\"1\" class=\"dataframe\">\n",
       "  <thead>\n",
       "    <tr style=\"text-align: right;\">\n",
       "      <th></th>\n",
       "      <th>MSSubClass</th>\n",
       "      <th>LotFrontage</th>\n",
       "      <th>LotArea</th>\n",
       "      <th>OverallQual</th>\n",
       "      <th>OverallCond</th>\n",
       "      <th>YearBuilt</th>\n",
       "      <th>YearRemodAdd</th>\n",
       "      <th>MasVnrArea</th>\n",
       "      <th>BsmtFinSF1</th>\n",
       "      <th>BsmtFinSF2</th>\n",
       "      <th>...</th>\n",
       "      <th>GarageArea</th>\n",
       "      <th>WoodDeckSF</th>\n",
       "      <th>OpenPorchSF</th>\n",
       "      <th>EnclosedPorch</th>\n",
       "      <th>3SsnPorch</th>\n",
       "      <th>ScreenPorch</th>\n",
       "      <th>PoolArea</th>\n",
       "      <th>MiscVal</th>\n",
       "      <th>MoSold</th>\n",
       "      <th>YrSold</th>\n",
       "    </tr>\n",
       "    <tr>\n",
       "      <th>Id</th>\n",
       "      <th></th>\n",
       "      <th></th>\n",
       "      <th></th>\n",
       "      <th></th>\n",
       "      <th></th>\n",
       "      <th></th>\n",
       "      <th></th>\n",
       "      <th></th>\n",
       "      <th></th>\n",
       "      <th></th>\n",
       "      <th></th>\n",
       "      <th></th>\n",
       "      <th></th>\n",
       "      <th></th>\n",
       "      <th></th>\n",
       "      <th></th>\n",
       "      <th></th>\n",
       "      <th></th>\n",
       "      <th></th>\n",
       "      <th></th>\n",
       "      <th></th>\n",
       "    </tr>\n",
       "  </thead>\n",
       "  <tbody>\n",
       "    <tr>\n",
       "      <th>619</th>\n",
       "      <td>20</td>\n",
       "      <td>90.0</td>\n",
       "      <td>11694</td>\n",
       "      <td>9</td>\n",
       "      <td>5</td>\n",
       "      <td>2007</td>\n",
       "      <td>2007</td>\n",
       "      <td>452.0</td>\n",
       "      <td>48</td>\n",
       "      <td>0</td>\n",
       "      <td>...</td>\n",
       "      <td>774</td>\n",
       "      <td>0</td>\n",
       "      <td>108</td>\n",
       "      <td>0</td>\n",
       "      <td>0</td>\n",
       "      <td>260</td>\n",
       "      <td>0</td>\n",
       "      <td>0</td>\n",
       "      <td>7</td>\n",
       "      <td>2007</td>\n",
       "    </tr>\n",
       "    <tr>\n",
       "      <th>871</th>\n",
       "      <td>20</td>\n",
       "      <td>60.0</td>\n",
       "      <td>6600</td>\n",
       "      <td>5</td>\n",
       "      <td>5</td>\n",
       "      <td>1962</td>\n",
       "      <td>1962</td>\n",
       "      <td>0.0</td>\n",
       "      <td>0</td>\n",
       "      <td>0</td>\n",
       "      <td>...</td>\n",
       "      <td>308</td>\n",
       "      <td>0</td>\n",
       "      <td>0</td>\n",
       "      <td>0</td>\n",
       "      <td>0</td>\n",
       "      <td>0</td>\n",
       "      <td>0</td>\n",
       "      <td>0</td>\n",
       "      <td>8</td>\n",
       "      <td>2009</td>\n",
       "    </tr>\n",
       "    <tr>\n",
       "      <th>93</th>\n",
       "      <td>30</td>\n",
       "      <td>80.0</td>\n",
       "      <td>13360</td>\n",
       "      <td>5</td>\n",
       "      <td>7</td>\n",
       "      <td>1921</td>\n",
       "      <td>2006</td>\n",
       "      <td>0.0</td>\n",
       "      <td>713</td>\n",
       "      <td>0</td>\n",
       "      <td>...</td>\n",
       "      <td>432</td>\n",
       "      <td>0</td>\n",
       "      <td>0</td>\n",
       "      <td>44</td>\n",
       "      <td>0</td>\n",
       "      <td>0</td>\n",
       "      <td>0</td>\n",
       "      <td>0</td>\n",
       "      <td>8</td>\n",
       "      <td>2009</td>\n",
       "    </tr>\n",
       "    <tr>\n",
       "      <th>818</th>\n",
       "      <td>20</td>\n",
       "      <td>NaN</td>\n",
       "      <td>13265</td>\n",
       "      <td>8</td>\n",
       "      <td>5</td>\n",
       "      <td>2002</td>\n",
       "      <td>2002</td>\n",
       "      <td>148.0</td>\n",
       "      <td>1218</td>\n",
       "      <td>0</td>\n",
       "      <td>...</td>\n",
       "      <td>857</td>\n",
       "      <td>150</td>\n",
       "      <td>59</td>\n",
       "      <td>0</td>\n",
       "      <td>0</td>\n",
       "      <td>0</td>\n",
       "      <td>0</td>\n",
       "      <td>0</td>\n",
       "      <td>7</td>\n",
       "      <td>2008</td>\n",
       "    </tr>\n",
       "    <tr>\n",
       "      <th>303</th>\n",
       "      <td>20</td>\n",
       "      <td>118.0</td>\n",
       "      <td>13704</td>\n",
       "      <td>7</td>\n",
       "      <td>5</td>\n",
       "      <td>2001</td>\n",
       "      <td>2002</td>\n",
       "      <td>150.0</td>\n",
       "      <td>0</td>\n",
       "      <td>0</td>\n",
       "      <td>...</td>\n",
       "      <td>843</td>\n",
       "      <td>468</td>\n",
       "      <td>81</td>\n",
       "      <td>0</td>\n",
       "      <td>0</td>\n",
       "      <td>0</td>\n",
       "      <td>0</td>\n",
       "      <td>0</td>\n",
       "      <td>1</td>\n",
       "      <td>2006</td>\n",
       "    </tr>\n",
       "  </tbody>\n",
       "</table>\n",
       "<p>5 rows × 36 columns</p>\n",
       "</div>"
      ],
      "text/plain": [
       "     MSSubClass  LotFrontage  LotArea  OverallQual  OverallCond  YearBuilt  \\\n",
       "Id                                                                           \n",
       "619          20         90.0    11694            9            5       2007   \n",
       "871          20         60.0     6600            5            5       1962   \n",
       "93           30         80.0    13360            5            7       1921   \n",
       "818          20          NaN    13265            8            5       2002   \n",
       "303          20        118.0    13704            7            5       2001   \n",
       "\n",
       "     YearRemodAdd  MasVnrArea  BsmtFinSF1  BsmtFinSF2  ...  GarageArea  \\\n",
       "Id                                                     ...               \n",
       "619          2007       452.0          48           0  ...         774   \n",
       "871          1962         0.0           0           0  ...         308   \n",
       "93           2006         0.0         713           0  ...         432   \n",
       "818          2002       148.0        1218           0  ...         857   \n",
       "303          2002       150.0           0           0  ...         843   \n",
       "\n",
       "     WoodDeckSF  OpenPorchSF  EnclosedPorch  3SsnPorch  ScreenPorch  PoolArea  \\\n",
       "Id                                                                              \n",
       "619           0          108              0          0          260         0   \n",
       "871           0            0              0          0            0         0   \n",
       "93            0            0             44          0            0         0   \n",
       "818         150           59              0          0            0         0   \n",
       "303         468           81              0          0            0         0   \n",
       "\n",
       "     MiscVal  MoSold  YrSold  \n",
       "Id                            \n",
       "619        0       7    2007  \n",
       "871        0       8    2009  \n",
       "93         0       8    2009  \n",
       "818        0       7    2008  \n",
       "303        0       1    2006  \n",
       "\n",
       "[5 rows x 36 columns]"
      ]
     },
     "execution_count": 3,
     "metadata": {},
     "output_type": "execute_result"
    }
   ],
   "source": [
    "X_train.head()"
   ]
  },
  {
   "cell_type": "markdown",
   "id": "8092253f",
   "metadata": {
    "papermill": {
     "duration": 0.009246,
     "end_time": "2024-09-29T12:10:42.635723",
     "exception": false,
     "start_time": "2024-09-29T12:10:42.626477",
     "status": "completed"
    },
    "tags": []
   },
   "source": [
    "You can already see a few missing values in the first several rows.  In the next step, you'll obtain a more comprehensive understanding of the missing values in the dataset.\n",
    "\n",
    "# Step 1: Preliminary investigation\n",
    "\n",
    "Run the code cell below without changes."
   ]
  },
  {
   "cell_type": "code",
   "execution_count": 4,
   "id": "54619d1f",
   "metadata": {
    "execution": {
     "iopub.execute_input": "2024-09-29T12:10:42.656841Z",
     "iopub.status.busy": "2024-09-29T12:10:42.656404Z",
     "iopub.status.idle": "2024-09-29T12:10:42.664172Z",
     "shell.execute_reply": "2024-09-29T12:10:42.663180Z"
    },
    "papermill": {
     "duration": 0.021181,
     "end_time": "2024-09-29T12:10:42.666756",
     "exception": false,
     "start_time": "2024-09-29T12:10:42.645575",
     "status": "completed"
    },
    "tags": []
   },
   "outputs": [
    {
     "name": "stdout",
     "output_type": "stream",
     "text": [
      "(1168, 36)\n",
      "LotFrontage    212\n",
      "MasVnrArea       6\n",
      "GarageYrBlt     58\n",
      "dtype: int64\n"
     ]
    }
   ],
   "source": [
    "# Shape of training data (num_rows, num_columns)\n",
    "print(X_train.shape)\n",
    "\n",
    "# Number of missing values in each column of training data\n",
    "missing_val_count_by_column = (X_train.isnull().sum())\n",
    "print(missing_val_count_by_column[missing_val_count_by_column > 0])"
   ]
  },
  {
   "cell_type": "markdown",
   "id": "984f2f8f",
   "metadata": {
    "papermill": {
     "duration": 0.009519,
     "end_time": "2024-09-29T12:10:42.686021",
     "exception": false,
     "start_time": "2024-09-29T12:10:42.676502",
     "status": "completed"
    },
    "tags": []
   },
   "source": [
    "### Part A\n",
    "\n",
    "Use the above output to answer the questions below."
   ]
  },
  {
   "cell_type": "code",
   "execution_count": 5,
   "id": "af8692d3",
   "metadata": {
    "execution": {
     "iopub.execute_input": "2024-09-29T12:10:42.708964Z",
     "iopub.status.busy": "2024-09-29T12:10:42.707844Z",
     "iopub.status.idle": "2024-09-29T12:10:42.718863Z",
     "shell.execute_reply": "2024-09-29T12:10:42.717849Z"
    },
    "papermill": {
     "duration": 0.025189,
     "end_time": "2024-09-29T12:10:42.720948",
     "exception": false,
     "start_time": "2024-09-29T12:10:42.695759",
     "status": "completed"
    },
    "tags": []
   },
   "outputs": [
    {
     "data": {
      "application/javascript": [
       "parent.postMessage({\"jupyterEvent\": \"custom.exercise_interaction\", \"data\": {\"outcomeType\": 1, \"valueTowardsCompletion\": 1.0, \"interactionType\": 1, \"questionType\": 1, \"questionId\": \"1.1_InvestigateEquality\", \"learnToolsVersion\": \"0.3.4\", \"failureMessage\": \"\", \"exceptionClass\": \"\", \"trace\": \"\"}}, \"*\")"
      ],
      "text/plain": [
       "<IPython.core.display.Javascript object>"
      ]
     },
     "metadata": {},
     "output_type": "display_data"
    },
    {
     "data": {
      "text/markdown": [
       "<span style=\"color:#33cc33\">Correct</span>"
      ],
      "text/plain": [
       "Correct"
      ]
     },
     "metadata": {},
     "output_type": "display_data"
    }
   ],
   "source": [
    "# Fill in the line below: How many rows are in the training data?\n",
    "num_rows = X_train.shape[0]\n",
    "\n",
    "# Fill in the line below: How many columns in the training data\n",
    "# have missing values?\n",
    "num_cols_with_missing = len(missing_val_count_by_column[missing_val_count_by_column>0])\n",
    "\n",
    "# Fill in the line below: How many missing entries are contained in \n",
    "# all of the training data?\n",
    "tot_missing = sum(missing_val_count_by_column)\n",
    "\n",
    "# Check your answers\n",
    "step_1.a.check()"
   ]
  },
  {
   "cell_type": "code",
   "execution_count": 6,
   "id": "3096cebb",
   "metadata": {
    "execution": {
     "iopub.execute_input": "2024-09-29T12:10:42.742298Z",
     "iopub.status.busy": "2024-09-29T12:10:42.741562Z",
     "iopub.status.idle": "2024-09-29T12:10:42.747139Z",
     "shell.execute_reply": "2024-09-29T12:10:42.746053Z"
    },
    "papermill": {
     "duration": 0.019318,
     "end_time": "2024-09-29T12:10:42.749973",
     "exception": false,
     "start_time": "2024-09-29T12:10:42.730655",
     "status": "completed"
    },
    "tags": []
   },
   "outputs": [
    {
     "name": "stdout",
     "output_type": "stream",
     "text": [
      "1168\n",
      "3\n",
      "276\n"
     ]
    }
   ],
   "source": [
    "print(num_rows)\n",
    "print(num_cols_with_missing)\n",
    "print(tot_missing)"
   ]
  },
  {
   "cell_type": "code",
   "execution_count": 7,
   "id": "75a75d08",
   "metadata": {
    "execution": {
     "iopub.execute_input": "2024-09-29T12:10:42.771582Z",
     "iopub.status.busy": "2024-09-29T12:10:42.771145Z",
     "iopub.status.idle": "2024-09-29T12:10:42.776014Z",
     "shell.execute_reply": "2024-09-29T12:10:42.774715Z"
    },
    "papermill": {
     "duration": 0.018279,
     "end_time": "2024-09-29T12:10:42.778203",
     "exception": false,
     "start_time": "2024-09-29T12:10:42.759924",
     "status": "completed"
    },
    "tags": []
   },
   "outputs": [],
   "source": [
    "# Lines below will give you a hint or solution code\n",
    "#step_1.a.hint()\n",
    "#step_1.a.solution()"
   ]
  },
  {
   "cell_type": "markdown",
   "id": "48975bf8",
   "metadata": {
    "papermill": {
     "duration": 0.009653,
     "end_time": "2024-09-29T12:10:42.797839",
     "exception": false,
     "start_time": "2024-09-29T12:10:42.788186",
     "status": "completed"
    },
    "tags": []
   },
   "source": [
    "### Part B\n",
    "Considering your answers above, what do you think is likely the best approach to dealing with the missing values?"
   ]
  },
  {
   "cell_type": "code",
   "execution_count": 8,
   "id": "ffb037d2",
   "metadata": {
    "execution": {
     "iopub.execute_input": "2024-09-29T12:10:42.819671Z",
     "iopub.status.busy": "2024-09-29T12:10:42.819205Z",
     "iopub.status.idle": "2024-09-29T12:10:42.828011Z",
     "shell.execute_reply": "2024-09-29T12:10:42.827003Z"
    },
    "papermill": {
     "duration": 0.022203,
     "end_time": "2024-09-29T12:10:42.830121",
     "exception": false,
     "start_time": "2024-09-29T12:10:42.807918",
     "status": "completed"
    },
    "tags": []
   },
   "outputs": [
    {
     "data": {
      "application/javascript": [
       "parent.postMessage({\"jupyterEvent\": \"custom.exercise_interaction\", \"data\": {\"outcomeType\": 1, \"valueTowardsCompletion\": 1.0, \"interactionType\": 1, \"questionType\": 4, \"questionId\": \"1.2_InvestigateThought\", \"learnToolsVersion\": \"0.3.4\", \"failureMessage\": \"\", \"exceptionClass\": \"\", \"trace\": \"\"}}, \"*\")"
      ],
      "text/plain": [
       "<IPython.core.display.Javascript object>"
      ]
     },
     "metadata": {},
     "output_type": "display_data"
    },
    {
     "data": {
      "text/markdown": [
       "<span style=\"color:#33cc33\">Correct:</span> \n",
       "\n",
       "Since there are relatively few missing entries in the data (the column with the greatest percentage of missing values is missing less than 20% of its entries), we can expect that dropping columns is unlikely to yield good results.  This is because we'd be throwing away a lot of valuable data, and so imputation will likely perform better."
      ],
      "text/plain": [
       "Correct: \n",
       "\n",
       "Since there are relatively few missing entries in the data (the column with the greatest percentage of missing values is missing less than 20% of its entries), we can expect that dropping columns is unlikely to yield good results.  This is because we'd be throwing away a lot of valuable data, and so imputation will likely perform better."
      ]
     },
     "metadata": {},
     "output_type": "display_data"
    }
   ],
   "source": [
    "# Check your answer (Run this code cell to receive credit!)\n",
    "step_1.b.check()"
   ]
  },
  {
   "cell_type": "code",
   "execution_count": 9,
   "id": "ab0c2a10",
   "metadata": {
    "execution": {
     "iopub.execute_input": "2024-09-29T12:10:42.852504Z",
     "iopub.status.busy": "2024-09-29T12:10:42.852045Z",
     "iopub.status.idle": "2024-09-29T12:10:42.856761Z",
     "shell.execute_reply": "2024-09-29T12:10:42.855688Z"
    },
    "papermill": {
     "duration": 0.018522,
     "end_time": "2024-09-29T12:10:42.859072",
     "exception": false,
     "start_time": "2024-09-29T12:10:42.840550",
     "status": "completed"
    },
    "tags": []
   },
   "outputs": [],
   "source": [
    "#step_1.b.hint()"
   ]
  },
  {
   "cell_type": "markdown",
   "id": "f82c3686",
   "metadata": {
    "papermill": {
     "duration": 0.009866,
     "end_time": "2024-09-29T12:10:42.879379",
     "exception": false,
     "start_time": "2024-09-29T12:10:42.869513",
     "status": "completed"
    },
    "tags": []
   },
   "source": [
    "To compare different approaches to dealing with missing values, you'll use the same `score_dataset()` function from the tutorial.  This function reports the [mean absolute error](https://en.wikipedia.org/wiki/Mean_absolute_error) (MAE) from a random forest model."
   ]
  },
  {
   "cell_type": "code",
   "execution_count": 10,
   "id": "8c52c17a",
   "metadata": {
    "execution": {
     "iopub.execute_input": "2024-09-29T12:10:42.901341Z",
     "iopub.status.busy": "2024-09-29T12:10:42.900920Z",
     "iopub.status.idle": "2024-09-29T12:10:43.259191Z",
     "shell.execute_reply": "2024-09-29T12:10:43.258056Z"
    },
    "papermill": {
     "duration": 0.372303,
     "end_time": "2024-09-29T12:10:43.261879",
     "exception": false,
     "start_time": "2024-09-29T12:10:42.889576",
     "status": "completed"
    },
    "tags": []
   },
   "outputs": [],
   "source": [
    "from sklearn.ensemble import RandomForestRegressor\n",
    "from sklearn.metrics import mean_absolute_error\n",
    "\n",
    "# Function for comparing different approaches\n",
    "def score_dataset(X_train, X_valid, y_train, y_valid):\n",
    "    model = RandomForestRegressor(n_estimators=100, random_state=0)\n",
    "    model.fit(X_train, y_train)\n",
    "    preds = model.predict(X_valid)\n",
    "    return mean_absolute_error(y_valid, preds)"
   ]
  },
  {
   "cell_type": "markdown",
   "id": "e66e6e9d",
   "metadata": {
    "papermill": {
     "duration": 0.010115,
     "end_time": "2024-09-29T12:10:43.282475",
     "exception": false,
     "start_time": "2024-09-29T12:10:43.272360",
     "status": "completed"
    },
    "tags": []
   },
   "source": [
    "# Step 2: Drop columns with missing values\n",
    "\n",
    "In this step, you'll preprocess the data in `X_train` and `X_valid` to remove columns with missing values.  Set the preprocessed DataFrames to `reduced_X_train` and `reduced_X_valid`, respectively.  "
   ]
  },
  {
   "cell_type": "code",
   "execution_count": 11,
   "id": "1813ec23",
   "metadata": {
    "execution": {
     "iopub.execute_input": "2024-09-29T12:10:43.304844Z",
     "iopub.status.busy": "2024-09-29T12:10:43.304419Z",
     "iopub.status.idle": "2024-09-29T12:10:43.323266Z",
     "shell.execute_reply": "2024-09-29T12:10:43.322128Z"
    },
    "papermill": {
     "duration": 0.032801,
     "end_time": "2024-09-29T12:10:43.325619",
     "exception": false,
     "start_time": "2024-09-29T12:10:43.292818",
     "status": "completed"
    },
    "tags": []
   },
   "outputs": [
    {
     "data": {
      "application/javascript": [
       "parent.postMessage({\"jupyterEvent\": \"custom.exercise_interaction\", \"data\": {\"outcomeType\": 1, \"valueTowardsCompletion\": 1.0, \"interactionType\": 1, \"questionType\": 2, \"questionId\": \"2_DropMissing\", \"learnToolsVersion\": \"0.3.4\", \"failureMessage\": \"\", \"exceptionClass\": \"\", \"trace\": \"\"}}, \"*\")"
      ],
      "text/plain": [
       "<IPython.core.display.Javascript object>"
      ]
     },
     "metadata": {},
     "output_type": "display_data"
    },
    {
     "data": {
      "text/markdown": [
       "<span style=\"color:#33cc33\">Correct</span>"
      ],
      "text/plain": [
       "Correct"
      ]
     },
     "metadata": {},
     "output_type": "display_data"
    }
   ],
   "source": [
    "# Fill in the line below: get names of columns with missing values\n",
    "# Your code here\n",
    "col_name_missing_values = X_train.columns[X_train.isnull().any()]\n",
    "\n",
    "# Fill in the lines below: drop columns in training and validation data\n",
    "reduced_X_train = X_train.drop(col_name_missing_values, axis = 1)\n",
    "reduced_X_valid = X_valid.drop(col_name_missing_values, axis = 1)\n",
    "\n",
    "# Check your answers\n",
    "step_2.check()"
   ]
  },
  {
   "cell_type": "code",
   "execution_count": 12,
   "id": "d59e8b91",
   "metadata": {
    "execution": {
     "iopub.execute_input": "2024-09-29T12:10:43.348509Z",
     "iopub.status.busy": "2024-09-29T12:10:43.348078Z",
     "iopub.status.idle": "2024-09-29T12:10:43.354186Z",
     "shell.execute_reply": "2024-09-29T12:10:43.352889Z"
    },
    "papermill": {
     "duration": 0.020548,
     "end_time": "2024-09-29T12:10:43.356759",
     "exception": false,
     "start_time": "2024-09-29T12:10:43.336211",
     "status": "completed"
    },
    "tags": []
   },
   "outputs": [
    {
     "name": "stdout",
     "output_type": "stream",
     "text": [
      "Index(['LotFrontage', 'MasVnrArea', 'GarageYrBlt'], dtype='object')\n"
     ]
    }
   ],
   "source": [
    "print(col_name_missing_values)"
   ]
  },
  {
   "cell_type": "code",
   "execution_count": 13,
   "id": "171be59f",
   "metadata": {
    "execution": {
     "iopub.execute_input": "2024-09-29T12:10:43.380612Z",
     "iopub.status.busy": "2024-09-29T12:10:43.379835Z",
     "iopub.status.idle": "2024-09-29T12:10:43.384600Z",
     "shell.execute_reply": "2024-09-29T12:10:43.383420Z"
    },
    "papermill": {
     "duration": 0.018927,
     "end_time": "2024-09-29T12:10:43.386855",
     "exception": false,
     "start_time": "2024-09-29T12:10:43.367928",
     "status": "completed"
    },
    "tags": []
   },
   "outputs": [],
   "source": [
    "# Lines below will give you a hint or solution code\n",
    "#step_2.hint()\n",
    "#step_2.solution()"
   ]
  },
  {
   "cell_type": "markdown",
   "id": "3e7ae704",
   "metadata": {
    "papermill": {
     "duration": 0.010481,
     "end_time": "2024-09-29T12:10:43.407990",
     "exception": false,
     "start_time": "2024-09-29T12:10:43.397509",
     "status": "completed"
    },
    "tags": []
   },
   "source": [
    "Run the next code cell without changes to obtain the MAE for this approach."
   ]
  },
  {
   "cell_type": "code",
   "execution_count": 14,
   "id": "6c66cf2f",
   "metadata": {
    "execution": {
     "iopub.execute_input": "2024-09-29T12:10:43.431167Z",
     "iopub.status.busy": "2024-09-29T12:10:43.430751Z",
     "iopub.status.idle": "2024-09-29T12:10:44.697214Z",
     "shell.execute_reply": "2024-09-29T12:10:44.696136Z"
    },
    "papermill": {
     "duration": 1.281119,
     "end_time": "2024-09-29T12:10:44.699882",
     "exception": false,
     "start_time": "2024-09-29T12:10:43.418763",
     "status": "completed"
    },
    "tags": []
   },
   "outputs": [
    {
     "name": "stdout",
     "output_type": "stream",
     "text": [
      "MAE (Drop columns with missing values):\n",
      "17837.82570776256\n"
     ]
    }
   ],
   "source": [
    "print(\"MAE (Drop columns with missing values):\")\n",
    "print(score_dataset(reduced_X_train, reduced_X_valid, y_train, y_valid))"
   ]
  },
  {
   "cell_type": "markdown",
   "id": "c86a6839",
   "metadata": {
    "papermill": {
     "duration": 0.012245,
     "end_time": "2024-09-29T12:10:44.723220",
     "exception": false,
     "start_time": "2024-09-29T12:10:44.710975",
     "status": "completed"
    },
    "tags": []
   },
   "source": [
    "# Step 3: Imputation\n",
    "\n",
    "### Part A\n",
    "\n",
    "Use the next code cell to impute missing values with the mean value along each column.  Set the preprocessed DataFrames to `imputed_X_train` and `imputed_X_valid`.  Make sure that the column names match those in `X_train` and `X_valid`."
   ]
  },
  {
   "cell_type": "code",
   "execution_count": 15,
   "id": "4808a70c",
   "metadata": {
    "execution": {
     "iopub.execute_input": "2024-09-29T12:10:44.746702Z",
     "iopub.status.busy": "2024-09-29T12:10:44.746291Z",
     "iopub.status.idle": "2024-09-29T12:10:44.777593Z",
     "shell.execute_reply": "2024-09-29T12:10:44.776556Z"
    },
    "papermill": {
     "duration": 0.046017,
     "end_time": "2024-09-29T12:10:44.780152",
     "exception": false,
     "start_time": "2024-09-29T12:10:44.734135",
     "status": "completed"
    },
    "tags": []
   },
   "outputs": [
    {
     "data": {
      "application/javascript": [
       "parent.postMessage({\"jupyterEvent\": \"custom.exercise_interaction\", \"data\": {\"outcomeType\": 1, \"valueTowardsCompletion\": 1.0, \"interactionType\": 1, \"questionType\": 2, \"questionId\": \"3.1_ImputeCode\", \"learnToolsVersion\": \"0.3.4\", \"failureMessage\": \"\", \"exceptionClass\": \"\", \"trace\": \"\"}}, \"*\")"
      ],
      "text/plain": [
       "<IPython.core.display.Javascript object>"
      ]
     },
     "metadata": {},
     "output_type": "display_data"
    },
    {
     "data": {
      "text/markdown": [
       "<span style=\"color:#33cc33\">Correct</span>"
      ],
      "text/plain": [
       "Correct"
      ]
     },
     "metadata": {},
     "output_type": "display_data"
    }
   ],
   "source": [
    "from sklearn.impute import SimpleImputer\n",
    "\n",
    "# Fill in the lines below: imputation\n",
    "# Your code here\n",
    "Sim_imput = SimpleImputer()\n",
    "\n",
    "imputed_X_train = pd.DataFrame(Sim_imput.fit_transform(X_train),index = X_train.index)\n",
    "imputed_X_valid = pd.DataFrame(Sim_imput.transform(X_valid),index = X_valid.index)\n",
    "\n",
    "# Fill in the lines below: imputation removed column names; put them back\n",
    "imputed_X_train.columns = X_train.columns\n",
    "imputed_X_valid.columns = X_valid.columns\n",
    "\n",
    "# Check your answers\n",
    "step_3.a.check()"
   ]
  },
  {
   "cell_type": "code",
   "execution_count": 16,
   "id": "fb7b3dfe",
   "metadata": {
    "execution": {
     "iopub.execute_input": "2024-09-29T12:10:44.804111Z",
     "iopub.status.busy": "2024-09-29T12:10:44.803689Z",
     "iopub.status.idle": "2024-09-29T12:10:44.829500Z",
     "shell.execute_reply": "2024-09-29T12:10:44.828466Z"
    },
    "papermill": {
     "duration": 0.040714,
     "end_time": "2024-09-29T12:10:44.832001",
     "exception": false,
     "start_time": "2024-09-29T12:10:44.791287",
     "status": "completed"
    },
    "tags": []
   },
   "outputs": [
    {
     "name": "stdout",
     "output_type": "stream",
     "text": [
      "LotFrontage      69.614017\n",
      "MasVnrArea      103.481067\n",
      "GarageYrBlt    1978.140541\n",
      "dtype: float64\n",
      "LotFrontage      71.751020\n",
      "MasVnrArea      104.503448\n",
      "GarageYrBlt    1980.014870\n",
      "dtype: float64\n",
      "     LotFrontage  MasVnrArea  GarageYrBlt\n",
      "Id                                       \n",
      "619         90.0       452.0       2007.0\n",
      "871         60.0         0.0       1962.0\n",
      "93          80.0         0.0       1921.0\n",
      "818          NaN       148.0       2002.0\n",
      "303        118.0       150.0       2001.0\n",
      "     LotFrontage  MasVnrArea  GarageYrBlt\n",
      "Id                                       \n",
      "619    90.000000       452.0       2007.0\n",
      "871    60.000000         0.0       1962.0\n",
      "93     80.000000         0.0       1921.0\n",
      "818    69.614017       148.0       2002.0\n",
      "303   118.000000       150.0       2001.0\n",
      "     LotFrontage  MasVnrArea  GarageYrBlt\n",
      "Id                                       \n",
      "530          NaN         NaN       1975.0\n",
      "492         79.0         0.0       1941.0\n",
      "460          NaN       161.0       1950.0\n",
      "280         83.0       299.0       1977.0\n",
      "656         21.0       381.0       1971.0\n",
      "     LotFrontage  MasVnrArea  GarageYrBlt\n",
      "Id                                       \n",
      "530    69.614017  103.481067       1975.0\n",
      "492    79.000000    0.000000       1941.0\n",
      "460    69.614017  161.000000       1950.0\n",
      "280    83.000000  299.000000       1977.0\n",
      "656    21.000000  381.000000       1971.0\n"
     ]
    }
   ],
   "source": [
    "print(X_train[X_train.columns[X_train.isnull().any()]].mean())\n",
    "print(X_valid[X_train.columns[X_train.isnull().any()]].mean())\n",
    "print(X_train[X_train.columns[X_train.isnull().any()]].head())\n",
    "print(imputed_X_train[X_train.columns[X_train.isnull().any()]].head())\n",
    "print(X_valid[X_train.columns[X_train.isnull().any()]].head())\n",
    "print(imputed_X_valid[X_train.columns[X_train.isnull().any()]].head())"
   ]
  },
  {
   "cell_type": "code",
   "execution_count": 17,
   "id": "d3434f6c",
   "metadata": {
    "execution": {
     "iopub.execute_input": "2024-09-29T12:10:44.856849Z",
     "iopub.status.busy": "2024-09-29T12:10:44.855880Z",
     "iopub.status.idle": "2024-09-29T12:10:44.860936Z",
     "shell.execute_reply": "2024-09-29T12:10:44.859852Z"
    },
    "papermill": {
     "duration": 0.019857,
     "end_time": "2024-09-29T12:10:44.863245",
     "exception": false,
     "start_time": "2024-09-29T12:10:44.843388",
     "status": "completed"
    },
    "tags": []
   },
   "outputs": [],
   "source": [
    "# Lines below will give you a hint or solution code\n",
    "#step_3.a.hint()\n",
    "#step_3.a.solution()"
   ]
  },
  {
   "cell_type": "markdown",
   "id": "20e07c8c",
   "metadata": {
    "papermill": {
     "duration": 0.010764,
     "end_time": "2024-09-29T12:10:44.885158",
     "exception": false,
     "start_time": "2024-09-29T12:10:44.874394",
     "status": "completed"
    },
    "tags": []
   },
   "source": [
    "Run the next code cell without changes to obtain the MAE for this approach."
   ]
  },
  {
   "cell_type": "code",
   "execution_count": 18,
   "id": "ab6df560",
   "metadata": {
    "execution": {
     "iopub.execute_input": "2024-09-29T12:10:44.909860Z",
     "iopub.status.busy": "2024-09-29T12:10:44.908705Z",
     "iopub.status.idle": "2024-09-29T12:10:46.303469Z",
     "shell.execute_reply": "2024-09-29T12:10:46.302367Z"
    },
    "papermill": {
     "duration": 1.40978,
     "end_time": "2024-09-29T12:10:46.306073",
     "exception": false,
     "start_time": "2024-09-29T12:10:44.896293",
     "status": "completed"
    },
    "tags": []
   },
   "outputs": [
    {
     "name": "stdout",
     "output_type": "stream",
     "text": [
      "MAE (Imputation):\n",
      "18062.894611872147\n"
     ]
    }
   ],
   "source": [
    "print(\"MAE (Imputation):\")\n",
    "print(score_dataset(imputed_X_train, imputed_X_valid, y_train, y_valid))"
   ]
  },
  {
   "cell_type": "code",
   "execution_count": 19,
   "id": "91c804ed",
   "metadata": {
    "execution": {
     "iopub.execute_input": "2024-09-29T12:10:46.331142Z",
     "iopub.status.busy": "2024-09-29T12:10:46.330720Z",
     "iopub.status.idle": "2024-09-29T12:10:46.344008Z",
     "shell.execute_reply": "2024-09-29T12:10:46.342937Z"
    },
    "papermill": {
     "duration": 0.028264,
     "end_time": "2024-09-29T12:10:46.346268",
     "exception": false,
     "start_time": "2024-09-29T12:10:46.318004",
     "status": "completed"
    },
    "tags": []
   },
   "outputs": [
    {
     "name": "stdout",
     "output_type": "stream",
     "text": [
      "(1168, 36)\n",
      "(292, 36)\n",
      "(1168, 36)\n",
      "(292, 36)\n",
      "Id\n",
      "619    False\n",
      "871    False\n",
      "93     False\n",
      "818    False\n",
      "303    False\n",
      "Name: GarageYrBlt, dtype: bool\n",
      "Id\n",
      "619    False\n",
      "871    False\n",
      "93     False\n",
      "818    False\n",
      "303    False\n",
      "Name: GarageYrBlt_missing_bool, dtype: bool\n"
     ]
    }
   ],
   "source": [
    "# Approach 3\n",
    "print(imputed_X_train.shape)\n",
    "print(imputed_X_valid.shape)\n",
    "print(X_train.shape)\n",
    "print(X_valid.shape)\n",
    "for i in col_name_missing_values:\n",
    "    imputed_X_train[i+'_missing_bool'] = X_train[i].isnull().astype(bool)\n",
    "    imputed_X_valid[i+'_missing_bool'] = X_valid[i].isnull().astype(bool)\n",
    "\n",
    "\n",
    "print(X_train[i].isnull().head())\n",
    "print(imputed_X_train[i+'_missing_bool'].head())"
   ]
  },
  {
   "cell_type": "code",
   "execution_count": 20,
   "id": "c2eec86c",
   "metadata": {
    "execution": {
     "iopub.execute_input": "2024-09-29T12:10:46.370963Z",
     "iopub.status.busy": "2024-09-29T12:10:46.370556Z",
     "iopub.status.idle": "2024-09-29T12:10:47.830285Z",
     "shell.execute_reply": "2024-09-29T12:10:47.829137Z"
    },
    "papermill": {
     "duration": 1.474921,
     "end_time": "2024-09-29T12:10:47.832633",
     "exception": false,
     "start_time": "2024-09-29T12:10:46.357712",
     "status": "completed"
    },
    "tags": []
   },
   "outputs": [
    {
     "name": "stdout",
     "output_type": "stream",
     "text": [
      "MAE from Approach 3 (An Extension to Imputation):\n",
      "18148.417180365297\n"
     ]
    }
   ],
   "source": [
    "print(\"MAE from Approach 3 (An Extension to Imputation):\")    \n",
    "print(score_dataset(imputed_X_train, imputed_X_valid, y_train, y_valid))"
   ]
  },
  {
   "cell_type": "markdown",
   "id": "01d6074b",
   "metadata": {
    "papermill": {
     "duration": 0.011393,
     "end_time": "2024-09-29T12:10:47.855532",
     "exception": false,
     "start_time": "2024-09-29T12:10:47.844139",
     "status": "completed"
    },
    "tags": []
   },
   "source": [
    "### Part B\n",
    "\n",
    "Compare the MAE from each approach.  Does anything surprise you about the results?  Why do you think one approach performed better than the other?"
   ]
  },
  {
   "cell_type": "code",
   "execution_count": 21,
   "id": "1a55928c",
   "metadata": {
    "execution": {
     "iopub.execute_input": "2024-09-29T12:10:47.880212Z",
     "iopub.status.busy": "2024-09-29T12:10:47.879725Z",
     "iopub.status.idle": "2024-09-29T12:10:47.888688Z",
     "shell.execute_reply": "2024-09-29T12:10:47.887688Z"
    },
    "papermill": {
     "duration": 0.024026,
     "end_time": "2024-09-29T12:10:47.890979",
     "exception": false,
     "start_time": "2024-09-29T12:10:47.866953",
     "status": "completed"
    },
    "tags": []
   },
   "outputs": [
    {
     "data": {
      "application/javascript": [
       "parent.postMessage({\"jupyterEvent\": \"custom.exercise_interaction\", \"data\": {\"outcomeType\": 1, \"valueTowardsCompletion\": 1.0, \"interactionType\": 1, \"questionType\": 4, \"questionId\": \"3.2_ImputeThought\", \"learnToolsVersion\": \"0.3.4\", \"failureMessage\": \"\", \"exceptionClass\": \"\", \"trace\": \"\"}}, \"*\")"
      ],
      "text/plain": [
       "<IPython.core.display.Javascript object>"
      ]
     },
     "metadata": {},
     "output_type": "display_data"
    },
    {
     "data": {
      "text/markdown": [
       "<span style=\"color:#33cc33\">Correct:</span> \n",
       "\n",
       "Given that thre are so few missing values in the dataset, we'd expect imputation to perform better than dropping columns entirely.  However, we see that dropping columns performs slightly better!  While this can probably partially be attributed to noise in the dataset, another potential explanation is that the imputation method is not a great match to this dataset.  That is, maybe instead of filling in the mean value, it makes more sense to set every missing value to a value of 0, to fill in the most frequently encountered value, or to use some other method.  For instance, consider the `GarageYrBlt` column (which indicates the year that the garage was built).  It's likely that in some cases, a missing value could indicate a house that does not have a garage.  Does it make more sense to fill in the median value along each column in this case?  Or could we get better results by filling in the minimum value along each column?  It's not quite clear what's best in this case, but perhaps we can rule out some options immediately - for instance, setting missing values in this column to 0 is likely to yield horrible results!"
      ],
      "text/plain": [
       "Correct: \n",
       "\n",
       "Given that thre are so few missing values in the dataset, we'd expect imputation to perform better than dropping columns entirely.  However, we see that dropping columns performs slightly better!  While this can probably partially be attributed to noise in the dataset, another potential explanation is that the imputation method is not a great match to this dataset.  That is, maybe instead of filling in the mean value, it makes more sense to set every missing value to a value of 0, to fill in the most frequently encountered value, or to use some other method.  For instance, consider the `GarageYrBlt` column (which indicates the year that the garage was built).  It's likely that in some cases, a missing value could indicate a house that does not have a garage.  Does it make more sense to fill in the median value along each column in this case?  Or could we get better results by filling in the minimum value along each column?  It's not quite clear what's best in this case, but perhaps we can rule out some options immediately - for instance, setting missing values in this column to 0 is likely to yield horrible results!"
      ]
     },
     "metadata": {},
     "output_type": "display_data"
    }
   ],
   "source": [
    "# Check your answer (Run this code cell to receive credit!)\n",
    "step_3.b.check()"
   ]
  },
  {
   "cell_type": "code",
   "execution_count": 22,
   "id": "009d0cc4",
   "metadata": {
    "execution": {
     "iopub.execute_input": "2024-09-29T12:10:47.916391Z",
     "iopub.status.busy": "2024-09-29T12:10:47.915969Z",
     "iopub.status.idle": "2024-09-29T12:10:47.924936Z",
     "shell.execute_reply": "2024-09-29T12:10:47.923725Z"
    },
    "papermill": {
     "duration": 0.024069,
     "end_time": "2024-09-29T12:10:47.926957",
     "exception": false,
     "start_time": "2024-09-29T12:10:47.902888",
     "status": "completed"
    },
    "tags": []
   },
   "outputs": [
    {
     "data": {
      "application/javascript": [
       "parent.postMessage({\"jupyterEvent\": \"custom.exercise_interaction\", \"data\": {\"interactionType\": 2, \"questionType\": 4, \"questionId\": \"3.2_ImputeThought\", \"learnToolsVersion\": \"0.3.4\", \"valueTowardsCompletion\": 0.0, \"failureMessage\": \"\", \"exceptionClass\": \"\", \"trace\": \"\", \"outcomeType\": 4}}, \"*\")"
      ],
      "text/plain": [
       "<IPython.core.display.Javascript object>"
      ]
     },
     "metadata": {},
     "output_type": "display_data"
    },
    {
     "data": {
      "text/markdown": [
       "<span style=\"color:#3366cc\">Hint:</span> Did removing missing values yield a larger or smaller MAE than imputation? Does this agree with the coding example from the tutorial?"
      ],
      "text/plain": [
       "Hint: Did removing missing values yield a larger or smaller MAE than imputation? Does this agree with the coding example from the tutorial?"
      ]
     },
     "metadata": {},
     "output_type": "display_data"
    }
   ],
   "source": [
    "step_3.b.hint()"
   ]
  },
  {
   "cell_type": "markdown",
   "id": "0dc702fe",
   "metadata": {
    "papermill": {
     "duration": 0.011606,
     "end_time": "2024-09-29T12:10:47.950587",
     "exception": false,
     "start_time": "2024-09-29T12:10:47.938981",
     "status": "completed"
    },
    "tags": []
   },
   "source": [
    "# Step 4: Generate test predictions\n",
    "\n",
    "In this final step, you'll use any approach of your choosing to deal with missing values.  Once you've preprocessed the training and validation features, you'll train and evaluate a random forest model.  Then, you'll preprocess the test data before generating predictions that can be submitted to the competition!\n",
    "\n",
    "### Part A\n",
    "\n",
    "Use the next code cell to preprocess the training and validation data.  Set the preprocessed DataFrames to `final_X_train` and `final_X_valid`.  **You can use any approach of your choosing here!**  in order for this step to be marked as correct, you need only ensure:\n",
    "- the preprocessed DataFrames have the same number of columns,\n",
    "- the preprocessed DataFrames have no missing values, \n",
    "- `final_X_train` and `y_train` have the same number of rows, and\n",
    "- `final_X_valid` and `y_valid` have the same number of rows."
   ]
  },
  {
   "cell_type": "code",
   "execution_count": 23,
   "id": "e5c68876",
   "metadata": {
    "execution": {
     "iopub.execute_input": "2024-09-29T12:10:47.975981Z",
     "iopub.status.busy": "2024-09-29T12:10:47.975534Z",
     "iopub.status.idle": "2024-09-29T12:10:47.999357Z",
     "shell.execute_reply": "2024-09-29T12:10:47.998147Z"
    },
    "papermill": {
     "duration": 0.039141,
     "end_time": "2024-09-29T12:10:48.001469",
     "exception": false,
     "start_time": "2024-09-29T12:10:47.962328",
     "status": "completed"
    },
    "tags": []
   },
   "outputs": [
    {
     "data": {
      "application/javascript": [
       "parent.postMessage({\"jupyterEvent\": \"custom.exercise_interaction\", \"data\": {\"outcomeType\": 1, \"valueTowardsCompletion\": 1.0, \"interactionType\": 1, \"questionType\": 2, \"questionId\": \"4.1_PredsCodeA\", \"learnToolsVersion\": \"0.3.4\", \"failureMessage\": \"\", \"exceptionClass\": \"\", \"trace\": \"\"}}, \"*\")"
      ],
      "text/plain": [
       "<IPython.core.display.Javascript object>"
      ]
     },
     "metadata": {},
     "output_type": "display_data"
    },
    {
     "data": {
      "text/markdown": [
       "<span style=\"color:#33cc33\">Correct</span>"
      ],
      "text/plain": [
       "Correct"
      ]
     },
     "metadata": {},
     "output_type": "display_data"
    }
   ],
   "source": [
    "col_name_missing_values = X_train.columns[X_train.isnull().any()]\n",
    "\n",
    "reduced_X_train = X_train.drop(col_name_missing_values, axis = 1)\n",
    "reduced_X_valid = X_valid.drop(col_name_missing_values, axis = 1)\n",
    "\n",
    "\n",
    "# Preprocessed training and validation features\n",
    "final_X_train = reduced_X_train\n",
    "final_X_valid = reduced_X_valid\n",
    "\n",
    "# Check your answers\n",
    "step_4.a.check()"
   ]
  },
  {
   "cell_type": "code",
   "execution_count": 24,
   "id": "397dd823",
   "metadata": {
    "execution": {
     "iopub.execute_input": "2024-09-29T12:10:48.027624Z",
     "iopub.status.busy": "2024-09-29T12:10:48.027219Z",
     "iopub.status.idle": "2024-09-29T12:10:48.031665Z",
     "shell.execute_reply": "2024-09-29T12:10:48.030612Z"
    },
    "papermill": {
     "duration": 0.020186,
     "end_time": "2024-09-29T12:10:48.033891",
     "exception": false,
     "start_time": "2024-09-29T12:10:48.013705",
     "status": "completed"
    },
    "tags": []
   },
   "outputs": [],
   "source": [
    "# Lines below will give you a hint or solution code\n",
    "#step_4.a.hint()\n",
    "#step_4.a.solution()"
   ]
  },
  {
   "cell_type": "markdown",
   "id": "d9f2a21b",
   "metadata": {
    "papermill": {
     "duration": 0.012074,
     "end_time": "2024-09-29T12:10:48.058463",
     "exception": false,
     "start_time": "2024-09-29T12:10:48.046389",
     "status": "completed"
    },
    "tags": []
   },
   "source": [
    "Run the next code cell to train and evaluate a random forest model.  (*Note that we don't use the `score_dataset()` function above, because we will soon use the trained model to generate test predictions!*)"
   ]
  },
  {
   "cell_type": "code",
   "execution_count": 25,
   "id": "2aac9cf6",
   "metadata": {
    "execution": {
     "iopub.execute_input": "2024-09-29T12:10:48.084954Z",
     "iopub.status.busy": "2024-09-29T12:10:48.084493Z",
     "iopub.status.idle": "2024-09-29T12:10:49.327803Z",
     "shell.execute_reply": "2024-09-29T12:10:49.326488Z"
    },
    "papermill": {
     "duration": 1.259594,
     "end_time": "2024-09-29T12:10:49.330390",
     "exception": false,
     "start_time": "2024-09-29T12:10:48.070796",
     "status": "completed"
    },
    "tags": []
   },
   "outputs": [
    {
     "name": "stdout",
     "output_type": "stream",
     "text": [
      "MAE (Your approach):\n",
      "17837.82570776256\n"
     ]
    }
   ],
   "source": [
    "# Define and fit model\n",
    "model = RandomForestRegressor(n_estimators=100, random_state=0)\n",
    "model.fit(final_X_train, y_train)\n",
    "\n",
    "# Get validation predictions and MAE\n",
    "preds_valid = model.predict(final_X_valid)\n",
    "print(\"MAE (Your approach):\")\n",
    "print(mean_absolute_error(y_valid, preds_valid))"
   ]
  },
  {
   "cell_type": "markdown",
   "id": "a88a5982",
   "metadata": {
    "papermill": {
     "duration": 0.011959,
     "end_time": "2024-09-29T12:10:49.354691",
     "exception": false,
     "start_time": "2024-09-29T12:10:49.342732",
     "status": "completed"
    },
    "tags": []
   },
   "source": [
    "### Part B\n",
    "\n",
    "Use the next code cell to preprocess your test data.  Make sure that you use a method that agrees with how you preprocessed the training and validation data, and set the preprocessed test features to `final_X_test`.\n",
    "\n",
    "Then, use the preprocessed test features and the trained model to generate test predictions in `preds_test`.\n",
    "\n",
    "In order for this step to be marked correct, you need only ensure:\n",
    "- the preprocessed test DataFrame has no missing values, and\n",
    "- `final_X_test` has the same number of rows as `X_test`."
   ]
  },
  {
   "cell_type": "code",
   "execution_count": 26,
   "id": "a53bc13e",
   "metadata": {
    "execution": {
     "iopub.execute_input": "2024-09-29T12:10:49.381103Z",
     "iopub.status.busy": "2024-09-29T12:10:49.380667Z",
     "iopub.status.idle": "2024-09-29T12:10:49.486410Z",
     "shell.execute_reply": "2024-09-29T12:10:49.485181Z"
    },
    "papermill": {
     "duration": 0.121845,
     "end_time": "2024-09-29T12:10:49.488854",
     "exception": false,
     "start_time": "2024-09-29T12:10:49.367009",
     "status": "completed"
    },
    "tags": []
   },
   "outputs": [
    {
     "data": {
      "application/javascript": [
       "parent.postMessage({\"jupyterEvent\": \"custom.exercise_interaction\", \"data\": {\"outcomeType\": 1, \"valueTowardsCompletion\": 1.0, \"interactionType\": 1, \"questionType\": 2, \"questionId\": \"4.2_PredsCodeB\", \"learnToolsVersion\": \"0.3.4\", \"failureMessage\": \"\", \"exceptionClass\": \"\", \"trace\": \"\"}}, \"*\")"
      ],
      "text/plain": [
       "<IPython.core.display.Javascript object>"
      ]
     },
     "metadata": {},
     "output_type": "display_data"
    },
    {
     "data": {
      "text/markdown": [
       "<span style=\"color:#33cc33\">Correct</span>"
      ],
      "text/plain": [
       "Correct"
      ]
     },
     "metadata": {},
     "output_type": "display_data"
    }
   ],
   "source": [
    "# Fill in the line below: preprocess test data\n",
    "final_X_test = X_test.drop(col_name_missing_values, axis = 1)\n",
    "\n",
    "# Type 1 -- removing rows\n",
    "final_X_test_1 = final_X_test.dropna(axis = 0)\n",
    "\n",
    "# Fill in the line below: get test predictions\n",
    "preds_test_1 = model.predict(final_X_test_1) # using approach 1\n",
    "\n",
    "\n",
    "\n",
    "# Type 2 -- Imputation based on Xtrain tranform\n",
    "final_X_test_2 = pd.DataFrame(Sim_imput.transform(X_test),index = X_test.index)\n",
    "final_X_test_2.columns = X_test.columns\n",
    "final_X_test_2 = final_X_test_2.drop(col_name_missing_values, axis = 1)\n",
    "\n",
    "# Fill in the line below: get test predictions\n",
    "preds_test_2 = model.predict(final_X_test_2) # using approach 2\n",
    "\n",
    "\n",
    "\n",
    "\n",
    "# Type 3 -- Imputation based on Xtest tranform and \n",
    "Sim_imput_3 = SimpleImputer()\n",
    "final_X_test_3 = pd.DataFrame(Sim_imput_3.fit_transform(X_test),index = X_test.index)\n",
    "final_X_test_3.columns = X_test.columns\n",
    "final_X_test_3 = final_X_test_3.drop(col_name_missing_values, axis = 1)\n",
    "\n",
    "# Fill in the line below: get test predictions\n",
    "preds_test = model.predict(final_X_test_3) # using approach 2\n",
    "\n",
    "\n",
    "#for answer shape checking\n",
    "final_X_test = final_X_test_3\n",
    "\n",
    "\n",
    "# Check your answers\n",
    "step_4.b.check()"
   ]
  },
  {
   "cell_type": "code",
   "execution_count": 27,
   "id": "08b15bf4",
   "metadata": {
    "execution": {
     "iopub.execute_input": "2024-09-29T12:10:49.516524Z",
     "iopub.status.busy": "2024-09-29T12:10:49.515763Z",
     "iopub.status.idle": "2024-09-29T12:10:49.524174Z",
     "shell.execute_reply": "2024-09-29T12:10:49.523200Z"
    },
    "papermill": {
     "duration": 0.024917,
     "end_time": "2024-09-29T12:10:49.526446",
     "exception": false,
     "start_time": "2024-09-29T12:10:49.501529",
     "status": "completed"
    },
    "tags": []
   },
   "outputs": [
    {
     "data": {
      "application/javascript": [
       "parent.postMessage({\"jupyterEvent\": \"custom.exercise_interaction\", \"data\": {\"interactionType\": 2, \"questionType\": 2, \"questionId\": \"4.2_PredsCodeB\", \"learnToolsVersion\": \"0.3.4\", \"valueTowardsCompletion\": 0.0, \"failureMessage\": \"\", \"exceptionClass\": \"\", \"trace\": \"\", \"outcomeType\": 4}}, \"*\")"
      ],
      "text/plain": [
       "<IPython.core.display.Javascript object>"
      ]
     },
     "metadata": {},
     "output_type": "display_data"
    },
    {
     "data": {
      "text/markdown": [
       "<span style=\"color:#3366cc\">Hint:</span> After preprocessing the test data, you can get the model's predictions by using `model.predict()`."
      ],
      "text/plain": [
       "Hint: After preprocessing the test data, you can get the model's predictions by using `model.predict()`."
      ]
     },
     "metadata": {},
     "output_type": "display_data"
    }
   ],
   "source": [
    "# Lines below will give you a hint or solution code\n",
    "step_4.b.hint()\n",
    "#step_4.b.solution()"
   ]
  },
  {
   "cell_type": "markdown",
   "id": "a5b0f251",
   "metadata": {
    "papermill": {
     "duration": 0.013585,
     "end_time": "2024-09-29T12:10:49.553131",
     "exception": false,
     "start_time": "2024-09-29T12:10:49.539546",
     "status": "completed"
    },
    "tags": []
   },
   "source": [
    "Run the next code cell without changes to save your results to a CSV file that can be submitted directly to the competition."
   ]
  },
  {
   "cell_type": "code",
   "execution_count": 28,
   "id": "47b9577d",
   "metadata": {
    "execution": {
     "iopub.execute_input": "2024-09-29T12:10:49.581272Z",
     "iopub.status.busy": "2024-09-29T12:10:49.580874Z",
     "iopub.status.idle": "2024-09-29T12:10:49.593076Z",
     "shell.execute_reply": "2024-09-29T12:10:49.591872Z"
    },
    "papermill": {
     "duration": 0.029326,
     "end_time": "2024-09-29T12:10:49.595780",
     "exception": false,
     "start_time": "2024-09-29T12:10:49.566454",
     "status": "completed"
    },
    "tags": []
   },
   "outputs": [],
   "source": [
    "# Save test predictions to file\n",
    "output = pd.DataFrame({'Id': X_test.index,\n",
    "                       'SalePrice': preds_test})\n",
    "output.to_csv('submission.csv', index=False)"
   ]
  },
  {
   "cell_type": "markdown",
   "id": "eb9f189d",
   "metadata": {
    "papermill": {
     "duration": 0.013169,
     "end_time": "2024-09-29T12:10:49.622830",
     "exception": false,
     "start_time": "2024-09-29T12:10:49.609661",
     "status": "completed"
    },
    "tags": []
   },
   "source": [
    "# Submit your results\n",
    "\n",
    "Once you have successfully completed Step 4, you're ready to submit your results to the leaderboard!  (_You also learned how to do this in the previous exercise.  If you need a reminder of how to do this, please use the instructions below._)  \n",
    "\n",
    "First, you'll need to join the competition if you haven't already.  So open a new window by clicking on [this link](https://www.kaggle.com/c/home-data-for-ml-course).  Then click on the **Join Competition** button.\n",
    "\n",
    "![join competition image](https://storage.googleapis.com/kaggle-media/learn/images/wLmFtH3.png)\n",
    "\n",
    "Next, follow the instructions below:\n",
    "1. Begin by clicking on the **Save Version** button in the top right corner of the window.  This will generate a pop-up window.  \n",
    "2. Ensure that the **Save and Run All** option is selected, and then click on the **Save** button.\n",
    "3. This generates a window in the bottom left corner of the notebook.  After it has finished running, click on the number to the right of the **Save Version** button.  This pulls up a list of versions on the right of the screen.  Click on the ellipsis **(...)** to the right of the most recent version, and select **Open in Viewer**.  This brings you into view mode of the same page. You will need to scroll down to get back to these instructions.\n",
    "4. Click on the **Data** tab near the top of the screen.  Then, click on the file you would like to submit, and click on the **Submit** button to submit your results to the leaderboard.\n",
    "\n",
    "You have now successfully submitted to the competition!\n",
    "\n",
    "If you want to keep working to improve your performance, select the **Edit** button in the top right of the screen. Then you can change your code and repeat the process. There's a lot of room to improve, and you will climb up the leaderboard as you work.\n",
    "\n",
    "\n",
    "# Keep going\n",
    "\n",
    "Move on to learn what **[categorical variables](https://www.kaggle.com/alexisbcook/categorical-variables)** are, along with how to incorporate them into your machine learning models.  Categorical variables are very common in real-world data, but you'll get an error if you try to plug them into your models without processing them first!"
   ]
  },
  {
   "cell_type": "markdown",
   "id": "d9ff40cd",
   "metadata": {
    "papermill": {
     "duration": 0.013189,
     "end_time": "2024-09-29T12:10:49.649398",
     "exception": false,
     "start_time": "2024-09-29T12:10:49.636209",
     "status": "completed"
    },
    "tags": []
   },
   "source": [
    "---\n",
    "\n",
    "\n",
    "\n",
    "\n",
    "*Have questions or comments? Visit the [course discussion forum](https://www.kaggle.com/learn/intermediate-machine-learning/discussion) to chat with other learners.*"
   ]
  }
 ],
 "metadata": {
  "kaggle": {
   "accelerator": "none",
   "dataSources": [
    {
     "databundleVersionId": 111096,
     "sourceId": 10211,
     "sourceType": "competition"
    }
   ],
   "isGpuEnabled": false,
   "isInternetEnabled": false,
   "language": "python",
   "sourceType": "notebook"
  },
  "kernelspec": {
   "display_name": "Python 3",
   "language": "python",
   "name": "python3"
  },
  "language_info": {
   "codemirror_mode": {
    "name": "ipython",
    "version": 3
   },
   "file_extension": ".py",
   "mimetype": "text/x-python",
   "name": "python",
   "nbconvert_exporter": "python",
   "pygments_lexer": "ipython3",
   "version": "3.10.14"
  },
  "papermill": {
   "default_parameters": {},
   "duration": 13.162384,
   "end_time": "2024-09-29T12:10:50.284224",
   "environment_variables": {},
   "exception": null,
   "input_path": "__notebook__.ipynb",
   "output_path": "__notebook__.ipynb",
   "parameters": {},
   "start_time": "2024-09-29T12:10:37.121840",
   "version": "2.6.0"
  }
 },
 "nbformat": 4,
 "nbformat_minor": 5
}
