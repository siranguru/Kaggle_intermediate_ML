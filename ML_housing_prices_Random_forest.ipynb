{
 "cells": [
  {
   "cell_type": "markdown",
   "id": "51723458",
   "metadata": {
    "papermill": {
     "duration": 0.007601,
     "end_time": "2024-09-29T12:07:37.343634",
     "exception": false,
     "start_time": "2024-09-29T12:07:37.336033",
     "status": "completed"
    },
    "tags": []
   },
   "source": [
    "**This notebook is an exercise in the [Intermediate Machine Learning](https://www.kaggle.com/learn/intermediate-machine-learning) course.  You can reference the tutorial at [this link](https://www.kaggle.com/alexisbcook/introduction).**\n",
    "\n",
    "---\n"
   ]
  },
  {
   "cell_type": "markdown",
   "id": "729bd183",
   "metadata": {
    "papermill": {
     "duration": 0.006624,
     "end_time": "2024-09-29T12:07:37.358308",
     "exception": false,
     "start_time": "2024-09-29T12:07:37.351684",
     "status": "completed"
    },
    "tags": []
   },
   "source": [
    "As a warm-up, you'll review some machine learning fundamentals and submit your initial results to a Kaggle competition.\n",
    "\n",
    "# Setup\n",
    "\n",
    "The questions below will give you feedback on your work. Run the following cell to set up the feedback system."
   ]
  },
  {
   "cell_type": "code",
   "execution_count": 1,
   "id": "6ec229ac",
   "metadata": {
    "execution": {
     "iopub.execute_input": "2024-09-29T12:07:37.374325Z",
     "iopub.status.busy": "2024-09-29T12:07:37.373782Z",
     "iopub.status.idle": "2024-09-29T12:07:40.114578Z",
     "shell.execute_reply": "2024-09-29T12:07:40.113279Z"
    },
    "papermill": {
     "duration": 2.75194,
     "end_time": "2024-09-29T12:07:40.117233",
     "exception": false,
     "start_time": "2024-09-29T12:07:37.365293",
     "status": "completed"
    },
    "tags": []
   },
   "outputs": [
    {
     "name": "stdout",
     "output_type": "stream",
     "text": [
      "Setup Complete\n"
     ]
    }
   ],
   "source": [
    "# Set up code checking\n",
    "import os\n",
    "if not os.path.exists(\"../input/train.csv\"):\n",
    "    os.symlink(\"../input/home-data-for-ml-course/train.csv\", \"../input/train.csv\")  \n",
    "    os.symlink(\"../input/home-data-for-ml-course/test.csv\", \"../input/test.csv\")  \n",
    "from learntools.core import binder\n",
    "binder.bind(globals())\n",
    "from learntools.ml_intermediate.ex1 import *\n",
    "print(\"Setup Complete\")"
   ]
  },
  {
   "cell_type": "markdown",
   "id": "4d6aff2e",
   "metadata": {
    "papermill": {
     "duration": 0.006688,
     "end_time": "2024-09-29T12:07:40.131195",
     "exception": false,
     "start_time": "2024-09-29T12:07:40.124507",
     "status": "completed"
    },
    "tags": []
   },
   "source": [
    "You will work with data from the [Housing Prices Competition for Kaggle Learn Users](https://www.kaggle.com/c/home-data-for-ml-course) to predict home prices in Iowa using 79 explanatory variables describing (almost) every aspect of the homes.  \n",
    "\n",
    "![Ames Housing dataset image](https://storage.googleapis.com/kaggle-media/learn/images/lTJVG4e.png)\n",
    "\n",
    "Run the next code cell without changes to load the training and validation features in `X_train` and `X_valid`, along with the prediction targets in `y_train` and `y_valid`.  The test features are loaded in `X_test`.  (_If you need to review **features** and **prediction targets**, please check out [this short tutorial](https://www.kaggle.com/dansbecker/your-first-machine-learning-model).  To read about model **validation**, look [here](https://www.kaggle.com/dansbecker/model-validation).  Alternatively, if you'd prefer to look through a full course to review all of these topics, start [here](https://www.kaggle.com/learn/machine-learning).)_"
   ]
  },
  {
   "cell_type": "code",
   "execution_count": 2,
   "id": "f423ebf4",
   "metadata": {
    "execution": {
     "iopub.execute_input": "2024-09-29T12:07:40.147313Z",
     "iopub.status.busy": "2024-09-29T12:07:40.146701Z",
     "iopub.status.idle": "2024-09-29T12:07:40.267842Z",
     "shell.execute_reply": "2024-09-29T12:07:40.266496Z"
    },
    "papermill": {
     "duration": 0.132698,
     "end_time": "2024-09-29T12:07:40.270809",
     "exception": false,
     "start_time": "2024-09-29T12:07:40.138111",
     "status": "completed"
    },
    "tags": []
   },
   "outputs": [],
   "source": [
    "import pandas as pd\n",
    "from sklearn.model_selection import train_test_split\n",
    "\n",
    "# Read the data\n",
    "X_full = pd.read_csv('../input/train.csv', index_col='Id')\n",
    "X_test_full = pd.read_csv('../input/test.csv', index_col='Id')\n",
    "\n",
    "# Obtain target and predictors\n",
    "y = X_full.SalePrice\n",
    "#features = ['LotArea', 'YearBuilt', '1stFlrSF', '2ndFlrSF', 'FullBath', 'BedroomAbvGr', 'TotRmsAbvGrd']\n",
    "features = ['MSSubClass', 'LotArea', 'OverallQual' , 'OverallCond' , 'YearBuilt', 'YearRemodAdd' , '1stFlrSF', '2ndFlrSF' , 'LowQualFinSF' , 'GrLivArea', 'FullBath', 'HalfBath', 'BedroomAbvGr' , 'KitchenAbvGr' , 'TotRmsAbvGrd' , 'Fireplaces' , 'WoodDeckSF' , 'OpenPorchSF', 'EnclosedPorch' , '3SsnPorch' , 'ScreenPorch' , 'PoolArea' , 'MiscVal' , 'MoSold' , 'YrSold']\n",
    "\n",
    "X = X_full[features].copy()\n",
    "X_test = X_test_full[features].copy()\n",
    "\n",
    "# Break off validation set from training data\n",
    "X_train, X_valid, y_train, y_valid = train_test_split(X, y, train_size=0.8, test_size=0.2,\n",
    "                                                      random_state=0)"
   ]
  },
  {
   "cell_type": "markdown",
   "id": "6566dd6b",
   "metadata": {
    "papermill": {
     "duration": 0.00675,
     "end_time": "2024-09-29T12:07:40.284776",
     "exception": false,
     "start_time": "2024-09-29T12:07:40.278026",
     "status": "completed"
    },
    "tags": []
   },
   "source": [
    "Use the next cell to print the first several rows of the data. It's a nice way to get an overview of the data you will use in your price prediction model."
   ]
  },
  {
   "cell_type": "code",
   "execution_count": 3,
   "id": "b1b25ea2",
   "metadata": {
    "execution": {
     "iopub.execute_input": "2024-09-29T12:07:40.302220Z",
     "iopub.status.busy": "2024-09-29T12:07:40.300523Z",
     "iopub.status.idle": "2024-09-29T12:07:40.328719Z",
     "shell.execute_reply": "2024-09-29T12:07:40.327487Z"
    },
    "papermill": {
     "duration": 0.039637,
     "end_time": "2024-09-29T12:07:40.331480",
     "exception": false,
     "start_time": "2024-09-29T12:07:40.291843",
     "status": "completed"
    },
    "tags": []
   },
   "outputs": [
    {
     "data": {
      "text/html": [
       "<div>\n",
       "<style scoped>\n",
       "    .dataframe tbody tr th:only-of-type {\n",
       "        vertical-align: middle;\n",
       "    }\n",
       "\n",
       "    .dataframe tbody tr th {\n",
       "        vertical-align: top;\n",
       "    }\n",
       "\n",
       "    .dataframe thead th {\n",
       "        text-align: right;\n",
       "    }\n",
       "</style>\n",
       "<table border=\"1\" class=\"dataframe\">\n",
       "  <thead>\n",
       "    <tr style=\"text-align: right;\">\n",
       "      <th></th>\n",
       "      <th>MSSubClass</th>\n",
       "      <th>LotArea</th>\n",
       "      <th>OverallQual</th>\n",
       "      <th>OverallCond</th>\n",
       "      <th>YearBuilt</th>\n",
       "      <th>YearRemodAdd</th>\n",
       "      <th>1stFlrSF</th>\n",
       "      <th>2ndFlrSF</th>\n",
       "      <th>LowQualFinSF</th>\n",
       "      <th>GrLivArea</th>\n",
       "      <th>...</th>\n",
       "      <th>Fireplaces</th>\n",
       "      <th>WoodDeckSF</th>\n",
       "      <th>OpenPorchSF</th>\n",
       "      <th>EnclosedPorch</th>\n",
       "      <th>3SsnPorch</th>\n",
       "      <th>ScreenPorch</th>\n",
       "      <th>PoolArea</th>\n",
       "      <th>MiscVal</th>\n",
       "      <th>MoSold</th>\n",
       "      <th>YrSold</th>\n",
       "    </tr>\n",
       "    <tr>\n",
       "      <th>Id</th>\n",
       "      <th></th>\n",
       "      <th></th>\n",
       "      <th></th>\n",
       "      <th></th>\n",
       "      <th></th>\n",
       "      <th></th>\n",
       "      <th></th>\n",
       "      <th></th>\n",
       "      <th></th>\n",
       "      <th></th>\n",
       "      <th></th>\n",
       "      <th></th>\n",
       "      <th></th>\n",
       "      <th></th>\n",
       "      <th></th>\n",
       "      <th></th>\n",
       "      <th></th>\n",
       "      <th></th>\n",
       "      <th></th>\n",
       "      <th></th>\n",
       "      <th></th>\n",
       "    </tr>\n",
       "  </thead>\n",
       "  <tbody>\n",
       "    <tr>\n",
       "      <th>619</th>\n",
       "      <td>20</td>\n",
       "      <td>11694</td>\n",
       "      <td>9</td>\n",
       "      <td>5</td>\n",
       "      <td>2007</td>\n",
       "      <td>2007</td>\n",
       "      <td>1828</td>\n",
       "      <td>0</td>\n",
       "      <td>0</td>\n",
       "      <td>1828</td>\n",
       "      <td>...</td>\n",
       "      <td>1</td>\n",
       "      <td>0</td>\n",
       "      <td>108</td>\n",
       "      <td>0</td>\n",
       "      <td>0</td>\n",
       "      <td>260</td>\n",
       "      <td>0</td>\n",
       "      <td>0</td>\n",
       "      <td>7</td>\n",
       "      <td>2007</td>\n",
       "    </tr>\n",
       "    <tr>\n",
       "      <th>871</th>\n",
       "      <td>20</td>\n",
       "      <td>6600</td>\n",
       "      <td>5</td>\n",
       "      <td>5</td>\n",
       "      <td>1962</td>\n",
       "      <td>1962</td>\n",
       "      <td>894</td>\n",
       "      <td>0</td>\n",
       "      <td>0</td>\n",
       "      <td>894</td>\n",
       "      <td>...</td>\n",
       "      <td>0</td>\n",
       "      <td>0</td>\n",
       "      <td>0</td>\n",
       "      <td>0</td>\n",
       "      <td>0</td>\n",
       "      <td>0</td>\n",
       "      <td>0</td>\n",
       "      <td>0</td>\n",
       "      <td>8</td>\n",
       "      <td>2009</td>\n",
       "    </tr>\n",
       "    <tr>\n",
       "      <th>93</th>\n",
       "      <td>30</td>\n",
       "      <td>13360</td>\n",
       "      <td>5</td>\n",
       "      <td>7</td>\n",
       "      <td>1921</td>\n",
       "      <td>2006</td>\n",
       "      <td>964</td>\n",
       "      <td>0</td>\n",
       "      <td>0</td>\n",
       "      <td>964</td>\n",
       "      <td>...</td>\n",
       "      <td>0</td>\n",
       "      <td>0</td>\n",
       "      <td>0</td>\n",
       "      <td>44</td>\n",
       "      <td>0</td>\n",
       "      <td>0</td>\n",
       "      <td>0</td>\n",
       "      <td>0</td>\n",
       "      <td>8</td>\n",
       "      <td>2009</td>\n",
       "    </tr>\n",
       "    <tr>\n",
       "      <th>818</th>\n",
       "      <td>20</td>\n",
       "      <td>13265</td>\n",
       "      <td>8</td>\n",
       "      <td>5</td>\n",
       "      <td>2002</td>\n",
       "      <td>2002</td>\n",
       "      <td>1689</td>\n",
       "      <td>0</td>\n",
       "      <td>0</td>\n",
       "      <td>1689</td>\n",
       "      <td>...</td>\n",
       "      <td>2</td>\n",
       "      <td>150</td>\n",
       "      <td>59</td>\n",
       "      <td>0</td>\n",
       "      <td>0</td>\n",
       "      <td>0</td>\n",
       "      <td>0</td>\n",
       "      <td>0</td>\n",
       "      <td>7</td>\n",
       "      <td>2008</td>\n",
       "    </tr>\n",
       "    <tr>\n",
       "      <th>303</th>\n",
       "      <td>20</td>\n",
       "      <td>13704</td>\n",
       "      <td>7</td>\n",
       "      <td>5</td>\n",
       "      <td>2001</td>\n",
       "      <td>2002</td>\n",
       "      <td>1541</td>\n",
       "      <td>0</td>\n",
       "      <td>0</td>\n",
       "      <td>1541</td>\n",
       "      <td>...</td>\n",
       "      <td>1</td>\n",
       "      <td>468</td>\n",
       "      <td>81</td>\n",
       "      <td>0</td>\n",
       "      <td>0</td>\n",
       "      <td>0</td>\n",
       "      <td>0</td>\n",
       "      <td>0</td>\n",
       "      <td>1</td>\n",
       "      <td>2006</td>\n",
       "    </tr>\n",
       "  </tbody>\n",
       "</table>\n",
       "<p>5 rows × 25 columns</p>\n",
       "</div>"
      ],
      "text/plain": [
       "     MSSubClass  LotArea  OverallQual  OverallCond  YearBuilt  YearRemodAdd  \\\n",
       "Id                                                                            \n",
       "619          20    11694            9            5       2007          2007   \n",
       "871          20     6600            5            5       1962          1962   \n",
       "93           30    13360            5            7       1921          2006   \n",
       "818          20    13265            8            5       2002          2002   \n",
       "303          20    13704            7            5       2001          2002   \n",
       "\n",
       "     1stFlrSF  2ndFlrSF  LowQualFinSF  GrLivArea  ...  Fireplaces  WoodDeckSF  \\\n",
       "Id                                                ...                           \n",
       "619      1828         0             0       1828  ...           1           0   \n",
       "871       894         0             0        894  ...           0           0   \n",
       "93        964         0             0        964  ...           0           0   \n",
       "818      1689         0             0       1689  ...           2         150   \n",
       "303      1541         0             0       1541  ...           1         468   \n",
       "\n",
       "     OpenPorchSF  EnclosedPorch  3SsnPorch  ScreenPorch  PoolArea  MiscVal  \\\n",
       "Id                                                                           \n",
       "619          108              0          0          260         0        0   \n",
       "871            0              0          0            0         0        0   \n",
       "93             0             44          0            0         0        0   \n",
       "818           59              0          0            0         0        0   \n",
       "303           81              0          0            0         0        0   \n",
       "\n",
       "     MoSold  YrSold  \n",
       "Id                   \n",
       "619       7    2007  \n",
       "871       8    2009  \n",
       "93        8    2009  \n",
       "818       7    2008  \n",
       "303       1    2006  \n",
       "\n",
       "[5 rows x 25 columns]"
      ]
     },
     "execution_count": 3,
     "metadata": {},
     "output_type": "execute_result"
    }
   ],
   "source": [
    "X_train.head()"
   ]
  },
  {
   "cell_type": "markdown",
   "id": "8f87ed4b",
   "metadata": {
    "papermill": {
     "duration": 0.008131,
     "end_time": "2024-09-29T12:07:40.347628",
     "exception": false,
     "start_time": "2024-09-29T12:07:40.339497",
     "status": "completed"
    },
    "tags": []
   },
   "source": [
    "The next code cell defines five different random forest models.  Run this code cell without changes.  (_To review **random forests**, look [here](https://www.kaggle.com/dansbecker/random-forests)._)"
   ]
  },
  {
   "cell_type": "code",
   "execution_count": 4,
   "id": "f4aa4deb",
   "metadata": {
    "execution": {
     "iopub.execute_input": "2024-09-29T12:07:40.366538Z",
     "iopub.status.busy": "2024-09-29T12:07:40.365445Z",
     "iopub.status.idle": "2024-09-29T12:07:40.373847Z",
     "shell.execute_reply": "2024-09-29T12:07:40.372646Z"
    },
    "papermill": {
     "duration": 0.021678,
     "end_time": "2024-09-29T12:07:40.376639",
     "exception": false,
     "start_time": "2024-09-29T12:07:40.354961",
     "status": "completed"
    },
    "tags": []
   },
   "outputs": [],
   "source": [
    "from sklearn.ensemble import RandomForestRegressor\n",
    "\n",
    "# Define the models\n",
    "model_1 = RandomForestRegressor(n_estimators=50, random_state=0)\n",
    "model_2 = RandomForestRegressor(n_estimators=100, random_state=0)\n",
    "model_3 = RandomForestRegressor(n_estimators=100, criterion='absolute_error', random_state=0)\n",
    "model_4 = RandomForestRegressor(n_estimators=200, min_samples_split=20, random_state=0)\n",
    "model_5 = RandomForestRegressor(n_estimators=100, max_depth=7, random_state=0)\n",
    "model_6 = RandomForestRegressor(random_state=0)\n",
    "\n",
    "models = [model_1, model_2, model_3, model_4, model_5, model_6]"
   ]
  },
  {
   "cell_type": "markdown",
   "id": "eb282889",
   "metadata": {
    "papermill": {
     "duration": 0.007367,
     "end_time": "2024-09-29T12:07:40.391897",
     "exception": false,
     "start_time": "2024-09-29T12:07:40.384530",
     "status": "completed"
    },
    "tags": []
   },
   "source": [
    "To select the best model out of the five, we define a function `score_model()` below.  This function returns the mean absolute error (MAE) from the validation set.  Recall that the best model will obtain the lowest MAE.  (_To review **mean absolute error**, look [here](https://www.kaggle.com/dansbecker/model-validation).)_\n",
    "\n",
    "Run the code cell without changes."
   ]
  },
  {
   "cell_type": "code",
   "execution_count": 5,
   "id": "84bfee8d",
   "metadata": {
    "execution": {
     "iopub.execute_input": "2024-09-29T12:07:40.408790Z",
     "iopub.status.busy": "2024-09-29T12:07:40.408298Z",
     "iopub.status.idle": "2024-09-29T12:07:52.564378Z",
     "shell.execute_reply": "2024-09-29T12:07:52.563156Z"
    },
    "papermill": {
     "duration": 12.168394,
     "end_time": "2024-09-29T12:07:52.567735",
     "exception": false,
     "start_time": "2024-09-29T12:07:40.399341",
     "status": "completed"
    },
    "tags": []
   },
   "outputs": [
    {
     "name": "stdout",
     "output_type": "stream",
     "text": [
      "Model 1 MAE: 19016\n",
      "Model 2 MAE: 18934\n",
      "Model 3 MAE: 18935\n",
      "Model 4 MAE: 19527\n",
      "Model 5 MAE: 19641\n",
      "Model 6 MAE: 18934\n"
     ]
    }
   ],
   "source": [
    "from sklearn.metrics import mean_absolute_error\n",
    "\n",
    "# Function for comparing different models\n",
    "def score_model(model, X_t=X_train, X_v=X_valid, y_t=y_train, y_v=y_valid):\n",
    "    model.fit(X_t, y_t)\n",
    "    preds = model.predict(X_v)\n",
    "    return mean_absolute_error(y_v, preds)\n",
    "\n",
    "for i in range(0, len(models)):\n",
    "    mae = score_model(models[i])\n",
    "    print(\"Model %d MAE: %d\" % (i+1, mae))\n",
    "    \n"
   ]
  },
  {
   "cell_type": "code",
   "execution_count": 6,
   "id": "1217f0b4",
   "metadata": {
    "execution": {
     "iopub.execute_input": "2024-09-29T12:07:52.592990Z",
     "iopub.status.busy": "2024-09-29T12:07:52.592494Z",
     "iopub.status.idle": "2024-09-29T12:07:52.598843Z",
     "shell.execute_reply": "2024-09-29T12:07:52.597654Z"
    },
    "papermill": {
     "duration": 0.021753,
     "end_time": "2024-09-29T12:07:52.601777",
     "exception": false,
     "start_time": "2024-09-29T12:07:52.580024",
     "status": "completed"
    },
    "tags": []
   },
   "outputs": [
    {
     "name": "stdout",
     "output_type": "stream",
     "text": [
      "100\n"
     ]
    }
   ],
   "source": [
    "print(model_6.n_estimators)"
   ]
  },
  {
   "cell_type": "markdown",
   "id": "c2b656c4",
   "metadata": {
    "papermill": {
     "duration": 0.007978,
     "end_time": "2024-09-29T12:07:52.617935",
     "exception": false,
     "start_time": "2024-09-29T12:07:52.609957",
     "status": "completed"
    },
    "tags": []
   },
   "source": [
    "# Step 1: Evaluate several models\n",
    "\n",
    "Use the above results to fill in the line below.  Which model is the best model?  Your answer should be one of `model_1`, `model_2`, `model_3`, `model_4`, or `model_5`."
   ]
  },
  {
   "cell_type": "code",
   "execution_count": 7,
   "id": "0cc0603f",
   "metadata": {
    "execution": {
     "iopub.execute_input": "2024-09-29T12:07:52.636206Z",
     "iopub.status.busy": "2024-09-29T12:07:52.635757Z",
     "iopub.status.idle": "2024-09-29T12:07:52.646319Z",
     "shell.execute_reply": "2024-09-29T12:07:52.645136Z"
    },
    "papermill": {
     "duration": 0.022562,
     "end_time": "2024-09-29T12:07:52.648651",
     "exception": false,
     "start_time": "2024-09-29T12:07:52.626089",
     "status": "completed"
    },
    "tags": []
   },
   "outputs": [
    {
     "data": {
      "application/javascript": [
       "parent.postMessage({\"jupyterEvent\": \"custom.exercise_interaction\", \"data\": {\"outcomeType\": 1, \"valueTowardsCompletion\": 0.5, \"interactionType\": 1, \"questionType\": 2, \"questionId\": \"1_BestModel\", \"learnToolsVersion\": \"0.3.4\", \"failureMessage\": \"\", \"exceptionClass\": \"\", \"trace\": \"\"}}, \"*\")"
      ],
      "text/plain": [
       "<IPython.core.display.Javascript object>"
      ]
     },
     "metadata": {},
     "output_type": "display_data"
    },
    {
     "data": {
      "text/markdown": [
       "<span style=\"color:#33cc33\">Correct</span>"
      ],
      "text/plain": [
       "Correct"
      ]
     },
     "metadata": {},
     "output_type": "display_data"
    }
   ],
   "source": [
    "# Fill in the best model\n",
    "best_model = model_3\n",
    "\n",
    "# Check your answer\n",
    "step_1.check()"
   ]
  },
  {
   "cell_type": "code",
   "execution_count": 8,
   "id": "8263d64d",
   "metadata": {
    "execution": {
     "iopub.execute_input": "2024-09-29T12:07:52.667902Z",
     "iopub.status.busy": "2024-09-29T12:07:52.667433Z",
     "iopub.status.idle": "2024-09-29T12:07:52.672975Z",
     "shell.execute_reply": "2024-09-29T12:07:52.671498Z"
    },
    "papermill": {
     "duration": 0.018504,
     "end_time": "2024-09-29T12:07:52.675809",
     "exception": false,
     "start_time": "2024-09-29T12:07:52.657305",
     "status": "completed"
    },
    "tags": []
   },
   "outputs": [],
   "source": [
    "# Lines below will give you a hint or solution code\n",
    "#step_1.hint()\n",
    "#step_1.solution()"
   ]
  },
  {
   "cell_type": "markdown",
   "id": "b90db8a2",
   "metadata": {
    "papermill": {
     "duration": 0.008165,
     "end_time": "2024-09-29T12:07:52.692992",
     "exception": false,
     "start_time": "2024-09-29T12:07:52.684827",
     "status": "completed"
    },
    "tags": []
   },
   "source": [
    "# Step 2: Generate test predictions\n",
    "\n",
    "Great. You know how to evaluate what makes an accurate model. Now it's time to go through the modeling process and make predictions. In the line below, create a Random Forest model with the variable name `my_model`."
   ]
  },
  {
   "cell_type": "code",
   "execution_count": 9,
   "id": "4f4de25b",
   "metadata": {
    "execution": {
     "iopub.execute_input": "2024-09-29T12:07:52.711869Z",
     "iopub.status.busy": "2024-09-29T12:07:52.711402Z",
     "iopub.status.idle": "2024-09-29T12:07:52.722384Z",
     "shell.execute_reply": "2024-09-29T12:07:52.721118Z"
    },
    "papermill": {
     "duration": 0.023421,
     "end_time": "2024-09-29T12:07:52.724850",
     "exception": false,
     "start_time": "2024-09-29T12:07:52.701429",
     "status": "completed"
    },
    "tags": []
   },
   "outputs": [
    {
     "data": {
      "application/javascript": [
       "parent.postMessage({\"jupyterEvent\": \"custom.exercise_interaction\", \"data\": {\"outcomeType\": 1, \"valueTowardsCompletion\": 0.5, \"interactionType\": 1, \"questionType\": 2, \"questionId\": \"2_Predictions\", \"learnToolsVersion\": \"0.3.4\", \"failureMessage\": \"\", \"exceptionClass\": \"\", \"trace\": \"\"}}, \"*\")"
      ],
      "text/plain": [
       "<IPython.core.display.Javascript object>"
      ]
     },
     "metadata": {},
     "output_type": "display_data"
    },
    {
     "data": {
      "text/markdown": [
       "<span style=\"color:#33cc33\">Correct</span>"
      ],
      "text/plain": [
       "Correct"
      ]
     },
     "metadata": {},
     "output_type": "display_data"
    }
   ],
   "source": [
    "# Define a model\n",
    "my_model = RandomForestRegressor(random_state = 0) # Your code here\n",
    "\n",
    "# Check your answer\n",
    "step_2.check()"
   ]
  },
  {
   "cell_type": "code",
   "execution_count": 10,
   "id": "8029a381",
   "metadata": {
    "execution": {
     "iopub.execute_input": "2024-09-29T12:07:52.744871Z",
     "iopub.status.busy": "2024-09-29T12:07:52.744406Z",
     "iopub.status.idle": "2024-09-29T12:07:52.749487Z",
     "shell.execute_reply": "2024-09-29T12:07:52.748235Z"
    },
    "papermill": {
     "duration": 0.018068,
     "end_time": "2024-09-29T12:07:52.751966",
     "exception": false,
     "start_time": "2024-09-29T12:07:52.733898",
     "status": "completed"
    },
    "tags": []
   },
   "outputs": [],
   "source": [
    "# Lines below will give you a hint or solution code\n",
    "#step_2.hint()\n",
    "#step_2.solution()"
   ]
  },
  {
   "cell_type": "markdown",
   "id": "652043a7",
   "metadata": {
    "papermill": {
     "duration": 0.008595,
     "end_time": "2024-09-29T12:07:52.769587",
     "exception": false,
     "start_time": "2024-09-29T12:07:52.760992",
     "status": "completed"
    },
    "tags": []
   },
   "source": [
    "Run the next code cell without changes.  The code fits the model to the training and validation data, and then generates test predictions that are saved to a CSV file.  These test predictions can be submitted directly to the competition!"
   ]
  },
  {
   "cell_type": "code",
   "execution_count": 11,
   "id": "7e03938c",
   "metadata": {
    "execution": {
     "iopub.execute_input": "2024-09-29T12:07:52.789100Z",
     "iopub.status.busy": "2024-09-29T12:07:52.788689Z",
     "iopub.status.idle": "2024-09-29T12:07:54.043158Z",
     "shell.execute_reply": "2024-09-29T12:07:54.042043Z"
    },
    "papermill": {
     "duration": 1.267627,
     "end_time": "2024-09-29T12:07:54.046161",
     "exception": false,
     "start_time": "2024-09-29T12:07:52.778534",
     "status": "completed"
    },
    "tags": []
   },
   "outputs": [],
   "source": [
    "# Fit the model to the training data\n",
    "my_model.fit(X, y)\n",
    "\n",
    "# Generate test predictions\n",
    "preds_test = my_model.predict(X_test)\n",
    "\n",
    "# Save predictions in format used for competition scoring\n",
    "output = pd.DataFrame({'Id': X_test.index,\n",
    "                       'SalePrice': preds_test})\n",
    "output.to_csv('submission.csv', index=False)"
   ]
  },
  {
   "cell_type": "markdown",
   "id": "b4b0b7b4",
   "metadata": {
    "papermill": {
     "duration": 0.008556,
     "end_time": "2024-09-29T12:07:54.063674",
     "exception": false,
     "start_time": "2024-09-29T12:07:54.055118",
     "status": "completed"
    },
    "tags": []
   },
   "source": [
    "# Submit your results\n",
    "\n",
    "Once you have successfully completed Step 2, you're ready to submit your results to the leaderboard!  First, you'll need to join the competition if you haven't already.  So open a new window by clicking on [this link](https://www.kaggle.com/c/home-data-for-ml-course).  Then click on the **Join Competition** button.  _(If you see a \"Submit Predictions\" button instead of a \"Join Competition\" button, you have already joined the competition, and don't need to do so again.)_\n",
    "\n",
    "Next, follow the instructions below:\n",
    "1. Begin by clicking on the **Save Version** button in the top right corner of the window.  This will generate a pop-up window.  \n",
    "2. Ensure that the **Save and Run All** option is selected, and then click on the **Save** button.\n",
    "3. This generates a window in the bottom left corner of the notebook.  After it has finished running, click on the number to the right of the **Save Version** button.  This pulls up a list of versions on the right of the screen.  Click on the ellipsis **(...)** to the right of the most recent version, and select **Open in Viewer**.  This brings you into view mode of the same page. You will need to scroll down to get back to these instructions.\n",
    "4. Click on the **Data** tab near the top of the screen.  Then, click on the file you would like to submit, and click on the **Submit** button to submit your results to the leaderboard.\n",
    "\n",
    "You have now successfully submitted to the competition!\n",
    "\n",
    "If you want to keep working to improve your performance, select the **Edit** button in the top right of the screen. Then you can change your code and repeat the process. There's a lot of room to improve, and you will climb up the leaderboard as you work.\n"
   ]
  },
  {
   "cell_type": "markdown",
   "id": "68a2fcd3",
   "metadata": {
    "papermill": {
     "duration": 0.008641,
     "end_time": "2024-09-29T12:07:54.081179",
     "exception": false,
     "start_time": "2024-09-29T12:07:54.072538",
     "status": "completed"
    },
    "tags": []
   },
   "source": [
    "# Keep going\n",
    "\n",
    "You've made your first model. But how can you quickly make it better?\n",
    "\n",
    "Learn how to improve your competition results by incorporating columns with **[missing values](https://www.kaggle.com/alexisbcook/missing-values)**."
   ]
  },
  {
   "cell_type": "markdown",
   "id": "795259ed",
   "metadata": {
    "papermill": {
     "duration": 0.008774,
     "end_time": "2024-09-29T12:07:54.098900",
     "exception": false,
     "start_time": "2024-09-29T12:07:54.090126",
     "status": "completed"
    },
    "tags": []
   },
   "source": [
    "---\n",
    "\n",
    "\n",
    "\n",
    "\n",
    "*Have questions or comments? Visit the [course discussion forum](https://www.kaggle.com/learn/intermediate-machine-learning/discussion) to chat with other learners.*"
   ]
  }
 ],
 "metadata": {
  "kaggle": {
   "accelerator": "none",
   "dataSources": [
    {
     "databundleVersionId": 111096,
     "sourceId": 10211,
     "sourceType": "competition"
    }
   ],
   "isGpuEnabled": false,
   "isInternetEnabled": false,
   "language": "python",
   "sourceType": "notebook"
  },
  "kernelspec": {
   "display_name": "Python 3",
   "language": "python",
   "name": "python3"
  },
  "language_info": {
   "codemirror_mode": {
    "name": "ipython",
    "version": 3
   },
   "file_extension": ".py",
   "mimetype": "text/x-python",
   "name": "python",
   "nbconvert_exporter": "python",
   "pygments_lexer": "ipython3",
   "version": "3.10.14"
  },
  "papermill": {
   "default_parameters": {},
   "duration": 20.444927,
   "end_time": "2024-09-29T12:07:54.729811",
   "environment_variables": {},
   "exception": null,
   "input_path": "__notebook__.ipynb",
   "output_path": "__notebook__.ipynb",
   "parameters": {},
   "start_time": "2024-09-29T12:07:34.284884",
   "version": "2.6.0"
  }
 },
 "nbformat": 4,
 "nbformat_minor": 5
}
